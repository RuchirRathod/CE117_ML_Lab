{
 "cells": [
  {
   "attachments": {},
   "cell_type": "markdown",
   "metadata": {},
   "source": [
    "**Numpy**"
   ]
  },
  {
   "cell_type": "code",
   "execution_count": 16,
   "metadata": {},
   "outputs": [],
   "source": [
    "import numpy as np"
   ]
  },
  {
   "cell_type": "code",
   "execution_count": 17,
   "metadata": {},
   "outputs": [
    {
     "name": "stdout",
     "output_type": "stream",
     "text": [
      "\n",
      "\n",
      "Matrix 1: \n",
      " [[ 0  1  2  3  4]\n",
      " [ 5  6  7  8  9]\n",
      " [10 11 12 13 14]\n",
      " [15 16 17 18 19]]\n",
      "\n",
      "\n",
      "Matrix 2: \n",
      " [[ 0  1  2  3]\n",
      " [ 4  5  6  7]\n",
      " [ 8  9 10 11]\n",
      " [12 13 14 15]\n",
      " [16 17 18 19]]\n"
     ]
    }
   ],
   "source": [
    "#Q1 Create Two numpy array of size 4x5 and 5x4\n",
    "\n",
    "n1 = np.arange(20).reshape(4,5)\n",
    "n2 = np.arange(20).reshape(5,4)\n",
    "\n",
    "print(\"\\n\\nMatrix 1: \\n\", n1)\n",
    "print(\"\\n\\nMatrix 2: \\n\", n2)"
   ]
  },
  {
   "cell_type": "code",
   "execution_count": 18,
   "metadata": {},
   "outputs": [
    {
     "name": "stdout",
     "output_type": "stream",
     "text": [
      "[[0 5 1 0 8]\n",
      " [6 4 3 4 9]\n",
      " [5 4 8 2 4]\n",
      " [5 6 2 6 7]]\n",
      "[[7 6 1 2]\n",
      " [1 0 2 8]\n",
      " [5 4 1 0]\n",
      " [1 3 1 3]\n",
      " [3 3 6 3]]\n"
     ]
    }
   ],
   "source": [
    "#Q2 Randomly initialize that array\n",
    "import random\n",
    "\n",
    "n3 = np.random.randint(10,size=(4,5))\n",
    "n4 = np.random.randint(10,size=(5,4))\n",
    "print(n3)\n",
    "print(n4)"
   ]
  },
  {
   "cell_type": "code",
   "execution_count": 19,
   "metadata": {},
   "outputs": [
    {
     "name": "stdout",
     "output_type": "stream",
     "text": [
      "[[34 28 59 64]\n",
      " [92 87 75 83]\n",
      " [93 80 47 60]\n",
      " [78 77 67 97]]\n"
     ]
    }
   ],
   "source": [
    "#Q3 Perform matrix multiplication\n",
    "\n",
    "print(n3.dot(n4))"
   ]
  },
  {
   "cell_type": "code",
   "execution_count": 20,
   "metadata": {},
   "outputs": [
    {
     "name": "stdout",
     "output_type": "stream",
     "text": [
      "[[ 0  5  5  0 24]\n",
      " [36  0 12 12 27]\n",
      " [ 5  8  8  2 24]\n",
      " [10 48  0 18 21]]\n"
     ]
    }
   ],
   "source": [
    "#Q4 Perform element wise matrix multiplication\n",
    "\n",
    "n5 = n4.T\n",
    "print(n3 * n5)"
   ]
  },
  {
   "cell_type": "code",
   "execution_count": 21,
   "metadata": {},
   "outputs": [
    {
     "name": "stdout",
     "output_type": "stream",
     "text": [
      "\n",
      "Mean:  4.45\n",
      "\n",
      "Median:  3.0\n"
     ]
    }
   ],
   "source": [
    "#Q5 Find mean, median of first matrix\n",
    "\n",
    "mean = np.mean(n3)\n",
    "median = np.median(n4)\n",
    "\n",
    "print(\"\\nMean: \", mean)\n",
    "print(\"\\nMedian: \", median)"
   ]
  },
  {
   "cell_type": "code",
   "execution_count": 22,
   "metadata": {},
   "outputs": [
    {
     "name": "stdout",
     "output_type": "stream",
     "text": [
      "[[0 6 5 5]\n",
      " [5 4 4 6]\n",
      " [1 3 8 2]\n",
      " [0 4 2 6]\n",
      " [8 9 4 7]]\n",
      "\n",
      " [[ 2  3 -1]\n",
      " [ 2  0 -1]\n",
      " [ 1  4  5]]\n",
      "-33.0\n"
     ]
    }
   ],
   "source": [
    "#Q6 Get the transpose of the matrix that you created. Create a square matrix and find its determinant.\n",
    "\n",
    "n6 = n3.T\n",
    "print(n6)\n",
    "\n",
    "n7 = np.array([[2, 3, -1], [2, 0, -1], [1, 4, 5]])\n",
    "print(\"\\n\", n7)\n",
    "print(np.linalg.det(n7))"
   ]
  },
  {
   "cell_type": "code",
   "execution_count": 23,
   "metadata": {},
   "outputs": [
    {
     "name": "stdout",
     "output_type": "stream",
     "text": [
      "5\n",
      "4\n",
      "4\n",
      "6\n"
     ]
    }
   ],
   "source": [
    "#Q7 Obtain each row in the second column of the first array\n",
    "\n",
    "z = len(n3)\n",
    "i = 0\n",
    "while z > 0 :\n",
    "    print(n3[i,1])\n",
    "    i = i + 1\n",
    "    z = z - 1"
   ]
  },
  {
   "cell_type": "code",
   "execution_count": 24,
   "metadata": {},
   "outputs": [
    {
     "name": "stdout",
     "output_type": "stream",
     "text": [
      "             Unnamed: 0   mpg  cyl   disp   hp  drat     wt   qsec  vs  am  \\\n",
      "0             Mazda RX4  21.0    6  160.0  110  3.90  2.620  16.46   0   1   \n",
      "1         Mazda RX4 Wag  21.0    6  160.0  110  3.90  2.875  17.02   0   1   \n",
      "2            Datsun 710  22.8    4  108.0   93  3.85  2.320  18.61   1   1   \n",
      "3        Hornet 4 Drive  21.4    6  258.0  110  3.08  3.215  19.44   1   0   \n",
      "4     Hornet Sportabout  18.7    8  360.0  175  3.15  3.440  17.02   0   0   \n",
      "5               Valiant  18.1    6  225.0  105  2.76  3.460  20.22   1   0   \n",
      "6            Duster 360  14.3    8  360.0  245  3.21  3.570  15.84   0   0   \n",
      "7             Merc 240D  24.4    4  146.7   62  3.69  3.190  20.00   1   0   \n",
      "8              Merc 230  22.8    4  140.8   95  3.92  3.150  22.90   1   0   \n",
      "9              Merc 280  19.2    6  167.6  123  3.92  3.440  18.30   1   0   \n",
      "10            Merc 280C  17.8    6  167.6  123  3.92  3.440  18.90   1   0   \n",
      "11           Merc 450SE  16.4    8  275.8  180  3.07  4.070  17.40   0   0   \n",
      "12           Merc 450SL  17.3    8  275.8  180  3.07  3.730  17.60   0   0   \n",
      "13          Merc 450SLC  15.2    8  275.8  180  3.07  3.780  18.00   0   0   \n",
      "14   Cadillac Fleetwood  10.4    8  472.0  205  2.93  5.250  17.98   0   0   \n",
      "15  Lincoln Continental  10.4    8  460.0  215  3.00  5.424  17.82   0   0   \n",
      "16    Chrysler Imperial  14.7    8  440.0  230  3.23  5.345  17.42   0   0   \n",
      "17             Fiat 128  32.4    4   78.7   66  4.08  2.200  19.47   1   1   \n",
      "18          Honda Civic  30.4    4   75.7   52  4.93  1.615  18.52   1   1   \n",
      "19       Toyota Corolla  33.9    4   71.1   65  4.22  1.835  19.90   1   1   \n",
      "20        Toyota Corona  21.5    4  120.1   97  3.70  2.465  20.01   1   0   \n",
      "21     Dodge Challenger  15.5    8  318.0  150  2.76  3.520  16.87   0   0   \n",
      "22          AMC Javelin  15.2    8  304.0  150  3.15  3.435  17.30   0   0   \n",
      "23           Camaro Z28  13.3    8  350.0  245  3.73  3.840  15.41   0   0   \n",
      "24     Pontiac Firebird  19.2    8  400.0  175  3.08  3.845  17.05   0   0   \n",
      "25            Fiat X1-9  27.3    4   79.0   66  4.08  1.935  18.90   1   1   \n",
      "26        Porsche 914-2  26.0    4  120.3   91  4.43  2.140  16.70   0   1   \n",
      "27         Lotus Europa  30.4    4   95.1  113  3.77  1.513  16.90   1   1   \n",
      "28       Ford Pantera L  15.8    8  351.0  264  4.22  3.170  14.50   0   1   \n",
      "29         Ferrari Dino  19.7    6  145.0  175  3.62  2.770  15.50   0   1   \n",
      "30        Maserati Bora  15.0    8  301.0  335  3.54  3.570  14.60   0   1   \n",
      "31           Volvo 142E  21.4    4  121.0  109  4.11  2.780  18.60   1   1   \n",
      "\n",
      "    gear  carb  \n",
      "0      4     4  \n",
      "1      4     4  \n",
      "2      4     1  \n",
      "3      3     1  \n",
      "4      3     2  \n",
      "5      3     1  \n",
      "6      3     4  \n",
      "7      4     2  \n",
      "8      4     2  \n",
      "9      4     4  \n",
      "10     4     4  \n",
      "11     3     3  \n",
      "12     3     3  \n",
      "13     3     3  \n",
      "14     3     4  \n",
      "15     3     4  \n",
      "16     3     4  \n",
      "17     4     1  \n",
      "18     4     2  \n",
      "19     4     1  \n",
      "20     3     1  \n",
      "21     3     2  \n",
      "22     3     2  \n",
      "23     3     4  \n",
      "24     3     2  \n",
      "25     4     1  \n",
      "26     5     2  \n",
      "27     5     2  \n",
      "28     5     4  \n",
      "29     5     6  \n",
      "30     5     8  \n",
      "31     4     2   \n",
      "\n"
     ]
    },
    {
     "data": {
      "text/html": [
       "<div>\n",
       "<style scoped>\n",
       "    .dataframe tbody tr th:only-of-type {\n",
       "        vertical-align: middle;\n",
       "    }\n",
       "\n",
       "    .dataframe tbody tr th {\n",
       "        vertical-align: top;\n",
       "    }\n",
       "\n",
       "    .dataframe thead th {\n",
       "        text-align: right;\n",
       "    }\n",
       "</style>\n",
       "<table border=\"1\" class=\"dataframe\">\n",
       "  <thead>\n",
       "    <tr style=\"text-align: right;\">\n",
       "      <th></th>\n",
       "      <th>mpg</th>\n",
       "      <th>cyl</th>\n",
       "      <th>disp</th>\n",
       "      <th>hp</th>\n",
       "      <th>drat</th>\n",
       "      <th>wt</th>\n",
       "      <th>qsec</th>\n",
       "      <th>vs</th>\n",
       "      <th>am</th>\n",
       "      <th>gear</th>\n",
       "      <th>carb</th>\n",
       "    </tr>\n",
       "  </thead>\n",
       "  <tbody>\n",
       "    <tr>\n",
       "      <th>count</th>\n",
       "      <td>32.000000</td>\n",
       "      <td>32.000000</td>\n",
       "      <td>32.000000</td>\n",
       "      <td>32.000000</td>\n",
       "      <td>32.000000</td>\n",
       "      <td>32.000000</td>\n",
       "      <td>32.000000</td>\n",
       "      <td>32.000000</td>\n",
       "      <td>32.000000</td>\n",
       "      <td>32.000000</td>\n",
       "      <td>32.0000</td>\n",
       "    </tr>\n",
       "    <tr>\n",
       "      <th>mean</th>\n",
       "      <td>20.090625</td>\n",
       "      <td>6.187500</td>\n",
       "      <td>230.721875</td>\n",
       "      <td>146.687500</td>\n",
       "      <td>3.596563</td>\n",
       "      <td>3.217250</td>\n",
       "      <td>17.848750</td>\n",
       "      <td>0.437500</td>\n",
       "      <td>0.406250</td>\n",
       "      <td>3.687500</td>\n",
       "      <td>2.8125</td>\n",
       "    </tr>\n",
       "    <tr>\n",
       "      <th>std</th>\n",
       "      <td>6.026948</td>\n",
       "      <td>1.785922</td>\n",
       "      <td>123.938694</td>\n",
       "      <td>68.562868</td>\n",
       "      <td>0.534679</td>\n",
       "      <td>0.978457</td>\n",
       "      <td>1.786943</td>\n",
       "      <td>0.504016</td>\n",
       "      <td>0.498991</td>\n",
       "      <td>0.737804</td>\n",
       "      <td>1.6152</td>\n",
       "    </tr>\n",
       "    <tr>\n",
       "      <th>min</th>\n",
       "      <td>10.400000</td>\n",
       "      <td>4.000000</td>\n",
       "      <td>71.100000</td>\n",
       "      <td>52.000000</td>\n",
       "      <td>2.760000</td>\n",
       "      <td>1.513000</td>\n",
       "      <td>14.500000</td>\n",
       "      <td>0.000000</td>\n",
       "      <td>0.000000</td>\n",
       "      <td>3.000000</td>\n",
       "      <td>1.0000</td>\n",
       "    </tr>\n",
       "    <tr>\n",
       "      <th>25%</th>\n",
       "      <td>15.425000</td>\n",
       "      <td>4.000000</td>\n",
       "      <td>120.825000</td>\n",
       "      <td>96.500000</td>\n",
       "      <td>3.080000</td>\n",
       "      <td>2.581250</td>\n",
       "      <td>16.892500</td>\n",
       "      <td>0.000000</td>\n",
       "      <td>0.000000</td>\n",
       "      <td>3.000000</td>\n",
       "      <td>2.0000</td>\n",
       "    </tr>\n",
       "    <tr>\n",
       "      <th>50%</th>\n",
       "      <td>19.200000</td>\n",
       "      <td>6.000000</td>\n",
       "      <td>196.300000</td>\n",
       "      <td>123.000000</td>\n",
       "      <td>3.695000</td>\n",
       "      <td>3.325000</td>\n",
       "      <td>17.710000</td>\n",
       "      <td>0.000000</td>\n",
       "      <td>0.000000</td>\n",
       "      <td>4.000000</td>\n",
       "      <td>2.0000</td>\n",
       "    </tr>\n",
       "    <tr>\n",
       "      <th>75%</th>\n",
       "      <td>22.800000</td>\n",
       "      <td>8.000000</td>\n",
       "      <td>326.000000</td>\n",
       "      <td>180.000000</td>\n",
       "      <td>3.920000</td>\n",
       "      <td>3.610000</td>\n",
       "      <td>18.900000</td>\n",
       "      <td>1.000000</td>\n",
       "      <td>1.000000</td>\n",
       "      <td>4.000000</td>\n",
       "      <td>4.0000</td>\n",
       "    </tr>\n",
       "    <tr>\n",
       "      <th>max</th>\n",
       "      <td>33.900000</td>\n",
       "      <td>8.000000</td>\n",
       "      <td>472.000000</td>\n",
       "      <td>335.000000</td>\n",
       "      <td>4.930000</td>\n",
       "      <td>5.424000</td>\n",
       "      <td>22.900000</td>\n",
       "      <td>1.000000</td>\n",
       "      <td>1.000000</td>\n",
       "      <td>5.000000</td>\n",
       "      <td>8.0000</td>\n",
       "    </tr>\n",
       "  </tbody>\n",
       "</table>\n",
       "</div>"
      ],
      "text/plain": [
       "             mpg        cyl        disp          hp       drat         wt  \\\n",
       "count  32.000000  32.000000   32.000000   32.000000  32.000000  32.000000   \n",
       "mean   20.090625   6.187500  230.721875  146.687500   3.596563   3.217250   \n",
       "std     6.026948   1.785922  123.938694   68.562868   0.534679   0.978457   \n",
       "min    10.400000   4.000000   71.100000   52.000000   2.760000   1.513000   \n",
       "25%    15.425000   4.000000  120.825000   96.500000   3.080000   2.581250   \n",
       "50%    19.200000   6.000000  196.300000  123.000000   3.695000   3.325000   \n",
       "75%    22.800000   8.000000  326.000000  180.000000   3.920000   3.610000   \n",
       "max    33.900000   8.000000  472.000000  335.000000   4.930000   5.424000   \n",
       "\n",
       "            qsec         vs         am       gear     carb  \n",
       "count  32.000000  32.000000  32.000000  32.000000  32.0000  \n",
       "mean   17.848750   0.437500   0.406250   3.687500   2.8125  \n",
       "std     1.786943   0.504016   0.498991   0.737804   1.6152  \n",
       "min    14.500000   0.000000   0.000000   3.000000   1.0000  \n",
       "25%    16.892500   0.000000   0.000000   3.000000   2.0000  \n",
       "50%    17.710000   0.000000   0.000000   4.000000   2.0000  \n",
       "75%    18.900000   1.000000   1.000000   4.000000   4.0000  \n",
       "max    22.900000   1.000000   1.000000   5.000000   8.0000  "
      ]
     },
     "execution_count": 24,
     "metadata": {},
     "output_type": "execute_result"
    }
   ],
   "source": [
    "#Q8 Convert Numeric entries(columns) of mtcars.csv to Mean Centered Version\n",
    "\n",
    "import pandas as pd\n",
    "file = pd.read_csv('mtcars.csv')\n",
    "print(file, \"\\n\")\n",
    "file.describe()"
   ]
  },
  {
   "cell_type": "code",
   "execution_count": 25,
   "metadata": {},
   "outputs": [
    {
     "name": "stdout",
     "output_type": "stream",
     "text": [
      "             Unnamed: 0        mpg     cyl        disp        hp      drat  \\\n",
      "0             Mazda RX4   0.909375 -0.1875  -70.721875  -36.6875  0.303437   \n",
      "1         Mazda RX4 Wag   0.909375 -0.1875  -70.721875  -36.6875  0.303437   \n",
      "2            Datsun 710   2.709375 -2.1875 -122.721875  -53.6875  0.253437   \n",
      "3        Hornet 4 Drive   1.309375 -0.1875   27.278125  -36.6875 -0.516563   \n",
      "4     Hornet Sportabout  -1.390625  1.8125  129.278125   28.3125 -0.446563   \n",
      "5               Valiant  -1.990625 -0.1875   -5.721875  -41.6875 -0.836563   \n",
      "6            Duster 360  -5.790625  1.8125  129.278125   98.3125 -0.386563   \n",
      "7             Merc 240D   4.309375 -2.1875  -84.021875  -84.6875  0.093437   \n",
      "8              Merc 230   2.709375 -2.1875  -89.921875  -51.6875  0.323437   \n",
      "9              Merc 280  -0.890625 -0.1875  -63.121875  -23.6875  0.323437   \n",
      "10            Merc 280C  -2.290625 -0.1875  -63.121875  -23.6875  0.323437   \n",
      "11           Merc 450SE  -3.690625  1.8125   45.078125   33.3125 -0.526563   \n",
      "12           Merc 450SL  -2.790625  1.8125   45.078125   33.3125 -0.526563   \n",
      "13          Merc 450SLC  -4.890625  1.8125   45.078125   33.3125 -0.526563   \n",
      "14   Cadillac Fleetwood  -9.690625  1.8125  241.278125   58.3125 -0.666562   \n",
      "15  Lincoln Continental  -9.690625  1.8125  229.278125   68.3125 -0.596563   \n",
      "16    Chrysler Imperial  -5.390625  1.8125  209.278125   83.3125 -0.366563   \n",
      "17             Fiat 128  12.309375 -2.1875 -152.021875  -80.6875  0.483437   \n",
      "18          Honda Civic  10.309375 -2.1875 -155.021875  -94.6875  1.333437   \n",
      "19       Toyota Corolla  13.809375 -2.1875 -159.621875  -81.6875  0.623437   \n",
      "20        Toyota Corona   1.409375 -2.1875 -110.621875  -49.6875  0.103438   \n",
      "21     Dodge Challenger  -4.590625  1.8125   87.278125    3.3125 -0.836563   \n",
      "22          AMC Javelin  -4.890625  1.8125   73.278125    3.3125 -0.446563   \n",
      "23           Camaro Z28  -6.790625  1.8125  119.278125   98.3125  0.133437   \n",
      "24     Pontiac Firebird  -0.890625  1.8125  169.278125   28.3125 -0.516563   \n",
      "25            Fiat X1-9   7.209375 -2.1875 -151.721875  -80.6875  0.483437   \n",
      "26        Porsche 914-2   5.909375 -2.1875 -110.421875  -55.6875  0.833437   \n",
      "27         Lotus Europa  10.309375 -2.1875 -135.621875  -33.6875  0.173437   \n",
      "28       Ford Pantera L  -4.290625  1.8125  120.278125  117.3125  0.623437   \n",
      "29         Ferrari Dino  -0.390625 -0.1875  -85.721875   28.3125  0.023438   \n",
      "30        Maserati Bora  -5.090625  1.8125   70.278125  188.3125 -0.056563   \n",
      "31           Volvo 142E   1.309375 -2.1875 -109.721875  -37.6875  0.513438   \n",
      "\n",
      "         wt     qsec      vs       am    gear    carb  \n",
      "0  -0.59725 -1.38875 -0.4375  0.59375  0.3125  1.1875  \n",
      "1  -0.34225 -0.82875 -0.4375  0.59375  0.3125  1.1875  \n",
      "2  -0.89725  0.76125  0.5625  0.59375  0.3125 -1.8125  \n",
      "3  -0.00225  1.59125  0.5625 -0.40625 -0.6875 -1.8125  \n",
      "4   0.22275 -0.82875 -0.4375 -0.40625 -0.6875 -0.8125  \n",
      "5   0.24275  2.37125  0.5625 -0.40625 -0.6875 -1.8125  \n",
      "6   0.35275 -2.00875 -0.4375 -0.40625 -0.6875  1.1875  \n",
      "7  -0.02725  2.15125  0.5625 -0.40625  0.3125 -0.8125  \n",
      "8  -0.06725  5.05125  0.5625 -0.40625  0.3125 -0.8125  \n",
      "9   0.22275  0.45125  0.5625 -0.40625  0.3125  1.1875  \n",
      "10  0.22275  1.05125  0.5625 -0.40625  0.3125  1.1875  \n",
      "11  0.85275 -0.44875 -0.4375 -0.40625 -0.6875  0.1875  \n",
      "12  0.51275 -0.24875 -0.4375 -0.40625 -0.6875  0.1875  \n",
      "13  0.56275  0.15125 -0.4375 -0.40625 -0.6875  0.1875  \n",
      "14  2.03275  0.13125 -0.4375 -0.40625 -0.6875  1.1875  \n",
      "15  2.20675 -0.02875 -0.4375 -0.40625 -0.6875  1.1875  \n",
      "16  2.12775 -0.42875 -0.4375 -0.40625 -0.6875  1.1875  \n",
      "17 -1.01725  1.62125  0.5625  0.59375  0.3125 -1.8125  \n",
      "18 -1.60225  0.67125  0.5625  0.59375  0.3125 -0.8125  \n",
      "19 -1.38225  2.05125  0.5625  0.59375  0.3125 -1.8125  \n",
      "20 -0.75225  2.16125  0.5625 -0.40625 -0.6875 -1.8125  \n",
      "21  0.30275 -0.97875 -0.4375 -0.40625 -0.6875 -0.8125  \n",
      "22  0.21775 -0.54875 -0.4375 -0.40625 -0.6875 -0.8125  \n",
      "23  0.62275 -2.43875 -0.4375 -0.40625 -0.6875  1.1875  \n",
      "24  0.62775 -0.79875 -0.4375 -0.40625 -0.6875 -0.8125  \n",
      "25 -1.28225  1.05125  0.5625  0.59375  0.3125 -1.8125  \n",
      "26 -1.07725 -1.14875 -0.4375  0.59375  1.3125 -0.8125  \n",
      "27 -1.70425 -0.94875  0.5625  0.59375  1.3125 -0.8125  \n",
      "28 -0.04725 -3.34875 -0.4375  0.59375  1.3125  1.1875  \n",
      "29 -0.44725 -2.34875 -0.4375  0.59375  1.3125  3.1875  \n",
      "30  0.35275 -3.24875 -0.4375  0.59375  1.3125  5.1875  \n",
      "31 -0.43725  0.75125  0.5625  0.59375  0.3125 -0.8125  \n"
     ]
    }
   ],
   "source": [
    "def mean_centric(data):\n",
    "    df = data.copy()\n",
    "    for col in data.columns:\n",
    "        try:\n",
    "            data[col] -= data[col].mean()\n",
    "        except:\n",
    "            pass\n",
    "    return data\n",
    "\n",
    "print(mean_centric(file))"
   ]
  },
  {
   "attachments": {},
   "cell_type": "markdown",
   "metadata": {},
   "source": [
    "**NLTK Library**"
   ]
  },
  {
   "cell_type": "code",
   "execution_count": 26,
   "metadata": {},
   "outputs": [],
   "source": [
    "#Q Perform all of the above preprocessing tasks on any other text dataset\n",
    "import matplotlib.pyplot as plt # library for visualization\n",
    "import nltk # Python library for NLP\n",
    "from nltk.corpus import movie_reviews\n"
   ]
  },
  {
   "cell_type": "code",
   "execution_count": 27,
   "metadata": {},
   "outputs": [
    {
     "name": "stderr",
     "output_type": "stream",
     "text": [
      "[nltk_data] Downloading package movie_reviews to\n",
      "[nltk_data]     C:\\Users\\ruchi\\AppData\\Roaming\\nltk_data...\n",
      "[nltk_data]   Package movie_reviews is already up-to-date!\n"
     ]
    },
    {
     "data": {
      "text/plain": [
       "True"
      ]
     },
     "execution_count": 27,
     "metadata": {},
     "output_type": "execute_result"
    }
   ],
   "source": [
    "nltk.download('movie_reviews')"
   ]
  },
  {
   "cell_type": "code",
   "execution_count": 28,
   "metadata": {},
   "outputs": [
    {
     "data": {
      "text/plain": [
       "['neg', 'pos']"
      ]
     },
     "execution_count": 28,
     "metadata": {},
     "output_type": "execute_result"
    }
   ],
   "source": [
    "movie_reviews.categories()"
   ]
  },
  {
   "cell_type": "code",
   "execution_count": 29,
   "metadata": {},
   "outputs": [
    {
     "name": "stdout",
     "output_type": "stream",
     "text": [
      "Positive movie reviews :  1000\n",
      "Negative movie reviews :  1000\n"
     ]
    }
   ],
   "source": [
    "print(\"Positive movie reviews : \",len(movie_reviews.fileids('pos')))\n",
    "print(\"Negative movie reviews : \",len(movie_reviews.fileids('neg')))"
   ]
  },
  {
   "cell_type": "code",
   "execution_count": 30,
   "metadata": {},
   "outputs": [
    {
     "data": {
      "image/png": "[encoded data removed]",
      "text/plain": [
       "<Figure size 500x500 with 1 Axes>"
      ]
     },
     "metadata": {},
     "output_type": "display_data"
    }
   ],
   "source": [
    "fig = plt.figure(figsize=(5, 5))\n",
    "# labels for the two classes\n",
    "labels = 'Positives', 'Negative'\n",
    "# Sizes for each slide\n",
    "sizes = [len(movie_reviews.fileids('pos')),len(movie_reviews.fileids('neg'))]\n",
    "# Declare pie chart, where the slices will be ordered and plotted counter-clockwise:\n",
    "plt.pie(sizes, labels=labels, autopct='%1.1f%%',\n",
    "shadow=False, startangle=90)\n",
    "# Equal aspect ratio ensures that pie is drawn as a circle.\n",
    "plt.axis('equal')\n",
    "# Display the chart\n",
    "plt.show()"
   ]
  },
  {
   "cell_type": "code",
   "execution_count": 31,
   "metadata": {},
   "outputs": [
    {
     "name": "stdout",
     "output_type": "stream",
     "text": [
      "\u001b[92mmeteor threat set to blow away all volcanoes & twisters ! \n",
      "summer is here again ! \n",
      "this season could probably be the most ambitious = season this decade with hollywood churning out films like deep impact , = godzilla , the x-files , armageddon , the truman show , all of which has but = one main aim , to rock the box office . \n",
      "leading the pack this summer is = deep impact , one of the first few film releases from the = spielberg-katzenberg-geffen's dreamworks production company . \n",
      "following = the rather dismal showing of their previous two releases ; mousehunt and = amistad , deep impact shines with elements which could just make it one = of the biggest movies of the year . \n",
      "deep impact begins with the discovery of an earth bound comet during a = school astronomy outing by leo beiderman ( elijah wood ) which = subsequently stirred up the political community of the world . \n",
      "keeping = the information under wraps to prevent widespread panic , president beck = ( morgan freeman ) took it upon himself and his subordinates to execute a = highly secretive space project to destroy the comet before it hits = earth . \n",
      "while pursuing a sex-scandal story amongst the presidential = ranks , ambitious up and coming reporter , jenny lerner ( tea leoni ) = unfolds the wool that president beck has pulled over the citizens of the = world . \n",
      "as if the knowledge of the imminent annihilation of mankind is = not enough , jenny has to come to terms with her father ( maximillian = schell ) leaving the mother for a younger woman . =20 \n",
      "president beck announces the discovery and preparations to destroy the = comet exactly one-year later , with so much confidence that it left no = trace of panic within the american community . \n",
      "achieving fame from = announcement of the comet wolf-beiderman en-route to earth ( the name of = its discoverers ) , leo beiderman continues life in his small town as a = young celebrity . \n",
      "a team of astronauts , led by the ageing veteran = astronaut spurgeon tanner ( robert duvall ) , was secretly trained to carry = out the mission to land on the comet and create and explosion with a = nuclear device , with the hope of blowing it out of its current path = towards earth . \n",
      "despite him being the most experienced in the team , the = younger generation of astronauts in the team doubts tanner's ability due = to his age . \n",
      "but these are just problems of individuals . \n",
      "life on earth = goes on as any other day , confident that the comet will be destroyed . \n",
      "when the attempt to avert wolf-beiderman's path failed and caused the = comet to split into two : comet wolf and comet beiderman , the president = unfolds his contingency plan to evacuate part of the population , leaving = the rest to die . \n",
      "citizens are randomly chosen to live underground for 2 = years prior to impact , when the dust due to the impact around earth have = settled , by then all life on the surface would have died . \n",
      "jenny and leo = were picked but many of their loved ones were not , only a handful of = earth's population will be saved from destruction . \n",
      "=20 \n",
      "deep impact's moving moments occur in the least special-effect laced = scenes . \n",
      "while the effects are fantastic , they only form a small part of = the film , which indulges itself in the development of its main = characters ; leo , lerner and tanner . \n",
      "leo's struggle when he learns that = his girlfriend is not part of the population to be saved , lerner's = dwindling relationship with her father and her pain for the mother's = loneliness , tanner's strive to gain the respect he deserves from his = crew and his ultimate sacrifice , all form the backbone of deep impact's = moving moments . \n",
      "deep impact smells suspiciously like the previous year = release contact despite vivid differences . \n",
      "i think its probably because = they both delve in a story of global proportions and indulges in the = premise of hope , faith and life itself . \n",
      "both do not depend heavily on = eye-candy in the form of cgi effects . \n",
      "director mimi leder ( who won = numerous awards directing television series , and made her debut with = peacekeeper last year ) is definitely a director to watch . =20 \n",
      "despite this being the first of the two meteor movies this summer ( the = other being armageddon ) , i think there will be stark differences in the = approach to the subject matter . \n",
      "while the premise of both may be the = same , execution and focus of the films will in fact show that deep = impact has more focus on human elements than armageddon , which is done = by the team which brought us bad boys , crimson tide and the rock . \n",
      "=20 \n",
      "deep impact should be able to satisfy a variety of audiences ; from the = most action-craving to those who just want to immerse into its = manipulative but nonetheless dramatic premise . \n",
      "\n",
      "\u001b[91mi'm going to start this review off with a hypothetical question . \n",
      "let's say you've just been in a car accident , and the driver of the other vehicle is unconscious . \n",
      "your friends have left to go get help , and you're waiting to see if the victim wakes up . \n",
      "a tow-truck comes along , and the driver hops out of the truck to see what's going on . \n",
      "he then proceeds to kill the unconscious victim by snapping his neck . \n",
      "do you : \n",
      "a ) run away screaming for your life , staying away from the main road , \n",
      "b ) run away ( but not too fast ) and stay on the main road even when the madman in the truck starts following you , * stop * to catch your breath , try to negotiate with the psycho , and when that fails , start running away again , all the while * staying on the main road * ? \n",
      "if you answered \" a \" , you are far more intelligent than the screenwriter of \" texas chainsaw massacre : the next generation \" and will likely hate this movie . \n",
      "however , if you answered \" b \" , prepare to enjoy a film made with idiots like you in mind ! \n",
      " \" texas chainsaw massacre : the next generation \" is being called a sequel , but it's really more of a remake of the original . \n",
      "there's a few changes here and there , but it's essentially the same ( even the infamous \" meathook \" scene has been re-created . ) \n",
      "the story opens with four teenagers hitting the road on the night of their prom , and somehow ending up in the middle of nowhere . \n",
      "needless to say , they soon encounter leatherface and his nutty family . \n",
      "much carnage ensues . \n",
      "to call this movie inept would be putting it mildly . \n",
      "in addition to the laughably idiotic situation i mentioned in my hypothetical question , there is a moment towards the end of the film where one of the baddies is killed by an airplane that literally comes out of nowhere . \n",
      "it just swoops down and kills him with its wheel . \n",
      "no explantion is given as to who was flying it or why he/she is going around killing people with the planes wheel . \n",
      "the dialogue is even more atrocious . \n",
      "zellwegger , who is kidnapped by \" the family \" early on , keeps trying to have normal conversations with these people . \n",
      "when you're surrounded by maniacs wielding chainsaws and dead corpses , i would think that rationality would go out the window . \n",
      "speaking of going out the window , there is a scene in which zellwegger jumps out a window . \n",
      "apparently , the stunt double had a little trouble , because she visibly gets stuck in the window . \n",
      "the director quickly cuts to a wide shot where the stunt double * doesn't * get caught in the window . \n",
      "this was one of many glaring inconsistencies . \n",
      "there are so many , in fact , that if i were to name them all , this review would be several pages long . \n",
      "the only reason i am giving this movie one star instead of no stars is because of matthew mcconaughey . \n",
      "he plays a member of \" the family \" with a hydraulic leg ( home-made , i might add ) and is so completely over-the-top , you can't help but be amazed by his performance . \n",
      "he obviously had a lot of fun with this part , and it really shows . \n",
      "he makes jack nicholson's portrayal of the psychotic inn keeper in \" the shining \" look restrained in comparison . \n",
      "for a horror movie , \" texas chainsaw massacre : the next generation \" contains surprisingly little gore . \n",
      "in fact , in contains none . \n",
      "there's a little blood here and there , but that's as far as it goes . \n",
      "which leads me to believe that the budget must have been * astonishingly * low , and it shows . \n",
      "everything about the movie looks cheap , from the sets to the costumes . \n",
      "especially leatherface . \n",
      "once frightening and nightmare inducing , he's now as terrifying as dame edna . \n",
      "do yourself a favor and take a pass at this remake . \n",
      "check out the far superior original instead . \n",
      "\n"
     ]
    }
   ],
   "source": [
    "# print positive in greeen\n",
    "print('\\033[92m' + movie_reviews.raw('pos/cv944_13521.txt'))\n",
    "# print negative in red\n",
    "print('\\033[91m' + movie_reviews.raw('neg/cv615_15734.txt'))"
   ]
  },
  {
   "cell_type": "code",
   "execution_count": 32,
   "metadata": {},
   "outputs": [
    {
     "name": "stderr",
     "output_type": "stream",
     "text": [
      "[nltk_data] Downloading package stopwords to\n",
      "[nltk_data]     C:\\Users\\ruchi\\AppData\\Roaming\\nltk_data...\n",
      "[nltk_data]   Package stopwords is already up-to-date!\n"
     ]
    }
   ],
   "source": [
    "nltk.download('stopwords')\n",
    "import re # library for regular expression operations\n",
    "import string # for string operations\n",
    "from nltk.corpus import stopwords # module for stop words that come with NLTK\n",
    "from nltk.stem import PorterStemmer # module for stemming\n",
    "from nltk.stem import WordNetLemmatizer"
   ]
  },
  {
   "cell_type": "code",
   "execution_count": 33,
   "metadata": {},
   "outputs": [
    {
     "name": "stdout",
     "output_type": "stream",
     "text": [
      "\u001b[92mmeteor threat set to blow away all volcanoes & twisters ! \n",
      "summer is here again ! \n",
      "this season could probably be the most ambitious = season this decade with hollywood churning out films like deep impact , = godzilla , the x-files , armageddon , the truman show , all of which has but = one main aim , to rock the box office . \n",
      "leading the pack this summer is = deep impact , one of the first few film releases from the = spielberg-katzenberg-geffen's dreamworks production company . \n",
      "following = the rather dismal showing of their previous two releases ; mousehunt and = amistad , deep impact shines with elements which could just make it one = of the biggest movies of the year . \n",
      "deep impact begins with the discovery of an earth bound comet during a = school astronomy outing by leo beiderman ( elijah wood ) which = subsequently stirred up the political community of the world . \n",
      "keeping = the information under wraps to prevent widespread panic , president beck = ( morgan freeman ) took it upon himself and his subordinates to execute a = highly secretive space project to destroy the comet before it hits = earth . \n",
      "while pursuing a sex-scandal story amongst the presidential = ranks , ambitious up and coming reporter , jenny lerner ( tea leoni ) = unfolds the wool that president beck has pulled over the citizens of the = world . \n",
      "as if the knowledge of the imminent annihilation of mankind is = not enough , jenny has to come to terms with her father ( maximillian = schell ) leaving the mother for a younger woman . =20 \n",
      "president beck announces the discovery and preparations to destroy the = comet exactly one-year later , with so much confidence that it left no = trace of panic within the american community . \n",
      "achieving fame from = announcement of the comet wolf-beiderman en-route to earth ( the name of = its discoverers ) , leo beiderman continues life in his small town as a = young celebrity . \n",
      "a team of astronauts , led by the ageing veteran = astronaut spurgeon tanner ( robert duvall ) , was secretly trained to carry = out the mission to land on the comet and create and explosion with a = nuclear device , with the hope of blowing it out of its current path = towards earth . \n",
      "despite him being the most experienced in the team , the = younger generation of astronauts in the team doubts tanner's ability due = to his age . \n",
      "but these are just problems of individuals . \n",
      "life on earth = goes on as any other day , confident that the comet will be destroyed . \n",
      "when the attempt to avert wolf-beiderman's path failed and caused the = comet to split into two : comet wolf and comet beiderman , the president = unfolds his contingency plan to evacuate part of the population , leaving = the rest to die . \n",
      "citizens are randomly chosen to live underground for 2 = years prior to impact , when the dust due to the impact around earth have = settled , by then all life on the surface would have died . \n",
      "jenny and leo = were picked but many of their loved ones were not , only a handful of = earth's population will be saved from destruction . \n",
      "=20 \n",
      "deep impact's moving moments occur in the least special-effect laced = scenes . \n",
      "while the effects are fantastic , they only form a small part of = the film , which indulges itself in the development of its main = characters ; leo , lerner and tanner . \n",
      "leo's struggle when he learns that = his girlfriend is not part of the population to be saved , lerner's = dwindling relationship with her father and her pain for the mother's = loneliness , tanner's strive to gain the respect he deserves from his = crew and his ultimate sacrifice , all form the backbone of deep impact's = moving moments . \n",
      "deep impact smells suspiciously like the previous year = release contact despite vivid differences . \n",
      "i think its probably because = they both delve in a story of global proportions and indulges in the = premise of hope , faith and life itself . \n",
      "both do not depend heavily on = eye-candy in the form of cgi effects . \n",
      "director mimi leder ( who won = numerous awards directing television series , and made her debut with = peacekeeper last year ) is definitely a director to watch . =20 \n",
      "despite this being the first of the two meteor movies this summer ( the = other being armageddon ) , i think there will be stark differences in the = approach to the subject matter . \n",
      "while the premise of both may be the = same , execution and focus of the films will in fact show that deep = impact has more focus on human elements than armageddon , which is done = by the team which brought us bad boys , crimson tide and the rock . \n",
      "=20 \n",
      "deep impact should be able to satisfy a variety of audiences ; from the = most action-craving to those who just want to immerse into its = manipulative but nonetheless dramatic premise . \n",
      "\n",
      "\n",
      "\u001b[94mTokenized string:\n",
      "['meteor', 'threat', 'set', 'to', 'blow', 'away', 'all', 'volcanoes', '&', 'twisters', '!', 'summer', 'is', 'here', 'again', '!', 'this', 'season', 'could', 'probably', 'be', 'the', 'most', 'ambitious', '=', 'season', 'this', 'decade', 'with', 'hollywood', 'churning', 'out', 'films', 'like', 'deep', 'impact', ',', '=', 'godzilla', ',', 'the', 'x-files', ',', 'armageddon', ',', 'the', 'truman', 'show', ',', 'all', 'of', 'which', 'has', 'but', '=', 'one', 'main', 'aim', ',', 'to', 'rock', 'the', 'box', 'office', '.', 'leading', 'the', 'pack', 'this', 'summer', 'is', '=', 'deep', 'impact', ',', 'one', 'of', 'the', 'first', 'few', 'film', 'releases', 'from', 'the', '=', \"spielberg-katzenberg-geffen's\", 'dreamworks', 'production', 'company', '.', 'following', '=', 'the', 'rather', 'dismal', 'showing', 'of', 'their', 'previous', 'two', 'releases', ';', 'mousehunt', 'and', '=', 'amistad', ',', 'deep', 'impact', 'shines', 'with', 'elements', 'which', 'could', 'just', 'make', 'it', 'one', '=', 'of', 'the', 'biggest', 'movies', 'of', 'the', 'year', '.', 'deep', 'impact', 'begins', 'with', 'the', 'discovery', 'of', 'an', 'earth', 'bound', 'comet', 'during', 'a', '=', 'school', 'astronomy', 'outing', 'by', 'leo', 'beiderman', '(', 'elijah', 'wood', ')', 'which', '=', 'subsequently', 'stirred', 'up', 'the', 'political', 'community', 'of', 'the', 'world', '.', 'keeping', '=', 'the', 'information', 'under', 'wraps', 'to', 'prevent', 'widespread', 'panic', ',', 'president', 'beck', '=', '(', 'morgan', 'freeman', ')', 'took', 'it', 'upon', 'himself', 'and', 'his', 'subordinates', 'to', 'execute', 'a', '=', 'highly', 'secretive', 'space', 'project', 'to', 'destroy', 'the', 'comet', 'before', 'it', 'hits', '=', 'earth', '.', 'while', 'pursuing', 'a', 'sex-scandal', 'story', 'amongst', 'the', 'presidential', '=', 'ranks', ',', 'ambitious', 'up', 'and', 'coming', 'reporter', ',', 'jenny', 'lerner', '(', 'tea', 'leoni', ')', '=', 'unfolds', 'the', 'wool', 'that', 'president', 'beck', 'has', 'pulled', 'over', 'the', 'citizens', 'of', 'the', '=', 'world', '.', 'as', 'if', 'the', 'knowledge', 'of', 'the', 'imminent', 'annihilation', 'of', 'mankind', 'is', '=', 'not', 'enough', ',', 'jenny', 'has', 'to', 'come', 'to', 'terms', 'with', 'her', 'father', '(', 'maximillian', '=', 'schell', ')', 'leaving', 'the', 'mother', 'for', 'a', 'younger', 'woman', '.', '=20', 'president', 'beck', 'announces', 'the', 'discovery', 'and', 'preparations', 'to', 'destroy', 'the', '=', 'comet', 'exactly', 'one-year', 'later', ',', 'with', 'so', 'much', 'confidence', 'that', 'it', 'left', 'no', '=', 'trace', 'of', 'panic', 'within', 'the', 'american', 'community', '.', 'achieving', 'fame', 'from', '=', 'announcement', 'of', 'the', 'comet', 'wolf-beiderman', 'en-route', 'to', 'earth', '(', 'the', 'name', 'of', '=', 'its', 'discoverers', ')', ',', 'leo', 'beiderman', 'continues', 'life', 'in', 'his', 'small', 'town', 'as', 'a', '=', 'young', 'celebrity', '.', 'a', 'team', 'of', 'astronauts', ',', 'led', 'by', 'the', 'ageing', 'veteran', '=', 'astronaut', 'spurgeon', 'tanner', '(', 'robert', 'duvall', ')', ',', 'was', 'secretly', 'trained', 'to', 'carry', '=', 'out', 'the', 'mission', 'to', 'land', 'on', 'the', 'comet', 'and', 'create', 'and', 'explosion', 'with', 'a', '=', 'nuclear', 'device', ',', 'with', 'the', 'hope', 'of', 'blowing', 'it', 'out', 'of', 'its', 'current', 'path', '=', 'towards', 'earth', '.', 'despite', 'him', 'being', 'the', 'most', 'experienced', 'in', 'the', 'team', ',', 'the', '=', 'younger', 'generation', 'of', 'astronauts', 'in', 'the', 'team', 'doubts', \"tanner's\", 'ability', 'due', '=', 'to', 'his', 'age', '.', 'but', 'these', 'are', 'just', 'problems', 'of', 'individuals', '.', 'life', 'on', 'earth', '=', 'goes', 'on', 'as', 'any', 'other', 'day', ',', 'confident', 'that', 'the', 'comet', 'will', 'be', 'destroyed', '.', 'when', 'the', 'attempt', 'to', 'avert', \"wolf-beiderman's\", 'path', 'failed', 'and', 'caused', 'the', '=', 'comet', 'to', 'split', 'into', 'two', ':', 'comet', 'wolf', 'and', 'comet', 'beiderman', ',', 'the', 'president', '=', 'unfolds', 'his', 'contingency', 'plan', 'to', 'evacuate', 'part', 'of', 'the', 'population', ',', 'leaving', '=', 'the', 'rest', 'to', 'die', '.', 'citizens', 'are', 'randomly', 'chosen', 'to', 'live', 'underground', 'for', '2', '=', 'years', 'prior', 'to', 'impact', ',', 'when', 'the', 'dust', 'due', 'to', 'the', 'impact', 'around', 'earth', 'have', '=', 'settled', ',', 'by', 'then', 'all', 'life', 'on', 'the', 'surface', 'would', 'have', 'died', '.', 'jenny', 'and', 'leo', '=', 'were', 'picked', 'but', 'many', 'of', 'their', 'loved', 'ones', 'were', 'not', ',', 'only', 'a', 'handful', 'of', '=', \"earth's\", 'population', 'will', 'be', 'saved', 'from', 'destruction', '.', '=20', 'deep', \"impact's\", 'moving', 'moments', 'occur', 'in', 'the', 'least', 'special-effect', 'laced', '=', 'scenes', '.', 'while', 'the', 'effects', 'are', 'fantastic', ',', 'they', 'only', 'form', 'a', 'small', 'part', 'of', '=', 'the', 'film', ',', 'which', 'indulges', 'itself', 'in', 'the', 'development', 'of', 'its', 'main', '=', 'characters', ';', 'leo', ',', 'lerner', 'and', 'tanner', '.', \"leo's\", 'struggle', 'when', 'he', 'learns', 'that', '=', 'his', 'girlfriend', 'is', 'not', 'part', 'of', 'the', 'population', 'to', 'be', 'saved', ',', \"lerner's\", '=', 'dwindling', 'relationship', 'with', 'her', 'father', 'and', 'her', 'pain', 'for', 'the', \"mother's\", '=', 'loneliness', ',', \"tanner's\", 'strive', 'to', 'gain', 'the', 'respect', 'he', 'deserves', 'from', 'his', '=', 'crew', 'and', 'his', 'ultimate', 'sacrifice', ',', 'all', 'form', 'the', 'backbone', 'of', 'deep', \"impact's\", '=', 'moving', 'moments', '.', 'deep', 'impact', 'smells', 'suspiciously', 'like', 'the', 'previous', 'year', '=', 'release', 'contact', 'despite', 'vivid', 'differences', '.', 'i', 'think', 'its', 'probably', 'because', '=', 'they', 'both', 'delve', 'in', 'a', 'story', 'of', 'global', 'proportions', 'and', 'indulges', 'in', 'the', '=', 'premise', 'of', 'hope', ',', 'faith', 'and', 'life', 'itself', '.', 'both', 'do', 'not', 'depend', 'heavily', 'on', '=', 'eye-candy', 'in', 'the', 'form', 'of', 'cgi', 'effects', '.', 'director', 'mimi', 'leder', '(', 'who', 'won', '=', 'numerous', 'awards', 'directing', 'television', 'series', ',', 'and', 'made', 'her', 'debut', 'with', '=', 'peacekeeper', 'last', 'year', ')', 'is', 'definitely', 'a', 'director', 'to', 'watch', '.', '=20', 'despite', 'this', 'being', 'the', 'first', 'of', 'the', 'two', 'meteor', 'movies', 'this', 'summer', '(', 'the', '=', 'other', 'being', 'armageddon', ')', ',', 'i', 'think', 'there', 'will', 'be', 'stark', 'differences', 'in', 'the', '=', 'approach', 'to', 'the', 'subject', 'matter', '.', 'while', 'the', 'premise', 'of', 'both', 'may', 'be', 'the', '=', 'same', ',', 'execution', 'and', 'focus', 'of', 'the', 'films', 'will', 'in', 'fact', 'show', 'that', 'deep', '=', 'impact', 'has', 'more', 'focus', 'on', 'human', 'elements', 'than', 'armageddon', ',', 'which', 'is', 'done', '=', 'by', 'the', 'team', 'which', 'brought', 'us', 'bad', 'boys', ',', 'crimson', 'tide', 'and', 'the', 'rock', '.', '=20', 'deep', 'impact', 'should', 'be', 'able', 'to', 'satisfy', 'a', 'variety', 'of', 'audiences', ';', 'from', 'the', '=', 'most', 'action-craving', 'to', 'those', 'who', 'just', 'want', 'to', 'immerse', 'into', 'its', '=', 'manipulative', 'but', 'nonetheless', 'dramatic', 'premise', '.']\n"
     ]
    }
   ],
   "source": [
    "#Tokenize the string\n",
    "review = movie_reviews.raw('pos/cv944_13521.txt')\n",
    "print('\\033[92m'+review)\n",
    "\n",
    "review_tokens = review.split()\n",
    "\n",
    "print()\n",
    "print('\\033[94m'+'Tokenized string:')\n",
    "print(review_tokens)"
   ]
  },
  {
   "cell_type": "code",
   "execution_count": 34,
   "metadata": {},
   "outputs": [
    {
     "name": "stdout",
     "output_type": "stream",
     "text": [
      "Stop words\n",
      "\n",
      "['i', 'me', 'my', 'myself', 'we', 'our', 'ours', 'ourselves', 'you', \"you're\", \"you've\", \"you'll\", \"you'd\", 'your', 'yours', 'yourself', 'yourselves', 'he', 'him', 'his', 'himself', 'she', \"she's\", 'her', 'hers', 'herself', 'it', \"it's\", 'its', 'itself', 'they', 'them', 'their', 'theirs', 'themselves', 'what', 'which', 'who', 'whom', 'this', 'that', \"that'll\", 'these', 'those', 'am', 'is', 'are', 'was', 'were', 'be', 'been', 'being', 'have', 'has', 'had', 'having', 'do', 'does', 'did', 'doing', 'a', 'an', 'the', 'and', 'but', 'if', 'or', 'because', 'as', 'until', 'while', 'of', 'at', 'by', 'for', 'with', 'about', 'against', 'between', 'into', 'through', 'during', 'before', 'after', 'above', 'below', 'to', 'from', 'up', 'down', 'in', 'out', 'on', 'off', 'over', 'under', 'again', 'further', 'then', 'once', 'here', 'there', 'when', 'where', 'why', 'how', 'all', 'any', 'both', 'each', 'few', 'more', 'most', 'other', 'some', 'such', 'no', 'nor', 'not', 'only', 'own', 'same', 'so', 'than', 'too', 'very', 's', 't', 'can', 'will', 'just', 'don', \"don't\", 'should', \"should've\", 'now', 'd', 'll', 'm', 'o', 're', 've', 'y', 'ain', 'aren', \"aren't\", 'couldn', \"couldn't\", 'didn', \"didn't\", 'doesn', \"doesn't\", 'hadn', \"hadn't\", 'hasn', \"hasn't\", 'haven', \"haven't\", 'isn', \"isn't\", 'ma', 'mightn', \"mightn't\", 'mustn', \"mustn't\", 'needn', \"needn't\", 'shan', \"shan't\", 'shouldn', \"shouldn't\", 'wasn', \"wasn't\", 'weren', \"weren't\", 'won', \"won't\", 'wouldn', \"wouldn't\"]\n",
      "\n",
      "Punctuation\n",
      "\n",
      "!\"#$%&'()*+,-./:;<=>?@[\\]^_`{|}~\n"
     ]
    }
   ],
   "source": [
    "#Removing Stop words and punchtuation\n",
    "stopwords_english = stopwords.words('english')\n",
    "\n",
    "print('Stop words\\n')\n",
    "print(stopwords_english)\n",
    "\n",
    "print('\\nPunctuation\\n')\n",
    "print(string.punctuation)"
   ]
  },
  {
   "cell_type": "code",
   "execution_count": 35,
   "metadata": {},
   "outputs": [
    {
     "name": "stdout",
     "output_type": "stream",
     "text": [
      "\u001b[92m\n",
      "['meteor', 'threat', 'set', 'to', 'blow', 'away', 'all', 'volcanoes', '&', 'twisters', '!', 'summer', 'is', 'here', 'again', '!', 'this', 'season', 'could', 'probably', 'be', 'the', 'most', 'ambitious', '=', 'season', 'this', 'decade', 'with', 'hollywood', 'churning', 'out', 'films', 'like', 'deep', 'impact', ',', '=', 'godzilla', ',', 'the', 'x-files', ',', 'armageddon', ',', 'the', 'truman', 'show', ',', 'all', 'of', 'which', 'has', 'but', '=', 'one', 'main', 'aim', ',', 'to', 'rock', 'the', 'box', 'office', '.', 'leading', 'the', 'pack', 'this', 'summer', 'is', '=', 'deep', 'impact', ',', 'one', 'of', 'the', 'first', 'few', 'film', 'releases', 'from', 'the', '=', \"spielberg-katzenberg-geffen's\", 'dreamworks', 'production', 'company', '.', 'following', '=', 'the', 'rather', 'dismal', 'showing', 'of', 'their', 'previous', 'two', 'releases', ';', 'mousehunt', 'and', '=', 'amistad', ',', 'deep', 'impact', 'shines', 'with', 'elements', 'which', 'could', 'just', 'make', 'it', 'one', '=', 'of', 'the', 'biggest', 'movies', 'of', 'the', 'year', '.', 'deep', 'impact', 'begins', 'with', 'the', 'discovery', 'of', 'an', 'earth', 'bound', 'comet', 'during', 'a', '=', 'school', 'astronomy', 'outing', 'by', 'leo', 'beiderman', '(', 'elijah', 'wood', ')', 'which', '=', 'subsequently', 'stirred', 'up', 'the', 'political', 'community', 'of', 'the', 'world', '.', 'keeping', '=', 'the', 'information', 'under', 'wraps', 'to', 'prevent', 'widespread', 'panic', ',', 'president', 'beck', '=', '(', 'morgan', 'freeman', ')', 'took', 'it', 'upon', 'himself', 'and', 'his', 'subordinates', 'to', 'execute', 'a', '=', 'highly', 'secretive', 'space', 'project', 'to', 'destroy', 'the', 'comet', 'before', 'it', 'hits', '=', 'earth', '.', 'while', 'pursuing', 'a', 'sex-scandal', 'story', 'amongst', 'the', 'presidential', '=', 'ranks', ',', 'ambitious', 'up', 'and', 'coming', 'reporter', ',', 'jenny', 'lerner', '(', 'tea', 'leoni', ')', '=', 'unfolds', 'the', 'wool', 'that', 'president', 'beck', 'has', 'pulled', 'over', 'the', 'citizens', 'of', 'the', '=', 'world', '.', 'as', 'if', 'the', 'knowledge', 'of', 'the', 'imminent', 'annihilation', 'of', 'mankind', 'is', '=', 'not', 'enough', ',', 'jenny', 'has', 'to', 'come', 'to', 'terms', 'with', 'her', 'father', '(', 'maximillian', '=', 'schell', ')', 'leaving', 'the', 'mother', 'for', 'a', 'younger', 'woman', '.', '=20', 'president', 'beck', 'announces', 'the', 'discovery', 'and', 'preparations', 'to', 'destroy', 'the', '=', 'comet', 'exactly', 'one-year', 'later', ',', 'with', 'so', 'much', 'confidence', 'that', 'it', 'left', 'no', '=', 'trace', 'of', 'panic', 'within', 'the', 'american', 'community', '.', 'achieving', 'fame', 'from', '=', 'announcement', 'of', 'the', 'comet', 'wolf-beiderman', 'en-route', 'to', 'earth', '(', 'the', 'name', 'of', '=', 'its', 'discoverers', ')', ',', 'leo', 'beiderman', 'continues', 'life', 'in', 'his', 'small', 'town', 'as', 'a', '=', 'young', 'celebrity', '.', 'a', 'team', 'of', 'astronauts', ',', 'led', 'by', 'the', 'ageing', 'veteran', '=', 'astronaut', 'spurgeon', 'tanner', '(', 'robert', 'duvall', ')', ',', 'was', 'secretly', 'trained', 'to', 'carry', '=', 'out', 'the', 'mission', 'to', 'land', 'on', 'the', 'comet', 'and', 'create', 'and', 'explosion', 'with', 'a', '=', 'nuclear', 'device', ',', 'with', 'the', 'hope', 'of', 'blowing', 'it', 'out', 'of', 'its', 'current', 'path', '=', 'towards', 'earth', '.', 'despite', 'him', 'being', 'the', 'most', 'experienced', 'in', 'the', 'team', ',', 'the', '=', 'younger', 'generation', 'of', 'astronauts', 'in', 'the', 'team', 'doubts', \"tanner's\", 'ability', 'due', '=', 'to', 'his', 'age', '.', 'but', 'these', 'are', 'just', 'problems', 'of', 'individuals', '.', 'life', 'on', 'earth', '=', 'goes', 'on', 'as', 'any', 'other', 'day', ',', 'confident', 'that', 'the', 'comet', 'will', 'be', 'destroyed', '.', 'when', 'the', 'attempt', 'to', 'avert', \"wolf-beiderman's\", 'path', 'failed', 'and', 'caused', 'the', '=', 'comet', 'to', 'split', 'into', 'two', ':', 'comet', 'wolf', 'and', 'comet', 'beiderman', ',', 'the', 'president', '=', 'unfolds', 'his', 'contingency', 'plan', 'to', 'evacuate', 'part', 'of', 'the', 'population', ',', 'leaving', '=', 'the', 'rest', 'to', 'die', '.', 'citizens', 'are', 'randomly', 'chosen', 'to', 'live', 'underground', 'for', '2', '=', 'years', 'prior', 'to', 'impact', ',', 'when', 'the', 'dust', 'due', 'to', 'the', 'impact', 'around', 'earth', 'have', '=', 'settled', ',', 'by', 'then', 'all', 'life', 'on', 'the', 'surface', 'would', 'have', 'died', '.', 'jenny', 'and', 'leo', '=', 'were', 'picked', 'but', 'many', 'of', 'their', 'loved', 'ones', 'were', 'not', ',', 'only', 'a', 'handful', 'of', '=', \"earth's\", 'population', 'will', 'be', 'saved', 'from', 'destruction', '.', '=20', 'deep', \"impact's\", 'moving', 'moments', 'occur', 'in', 'the', 'least', 'special-effect', 'laced', '=', 'scenes', '.', 'while', 'the', 'effects', 'are', 'fantastic', ',', 'they', 'only', 'form', 'a', 'small', 'part', 'of', '=', 'the', 'film', ',', 'which', 'indulges', 'itself', 'in', 'the', 'development', 'of', 'its', 'main', '=', 'characters', ';', 'leo', ',', 'lerner', 'and', 'tanner', '.', \"leo's\", 'struggle', 'when', 'he', 'learns', 'that', '=', 'his', 'girlfriend', 'is', 'not', 'part', 'of', 'the', 'population', 'to', 'be', 'saved', ',', \"lerner's\", '=', 'dwindling', 'relationship', 'with', 'her', 'father', 'and', 'her', 'pain', 'for', 'the', \"mother's\", '=', 'loneliness', ',', \"tanner's\", 'strive', 'to', 'gain', 'the', 'respect', 'he', 'deserves', 'from', 'his', '=', 'crew', 'and', 'his', 'ultimate', 'sacrifice', ',', 'all', 'form', 'the', 'backbone', 'of', 'deep', \"impact's\", '=', 'moving', 'moments', '.', 'deep', 'impact', 'smells', 'suspiciously', 'like', 'the', 'previous', 'year', '=', 'release', 'contact', 'despite', 'vivid', 'differences', '.', 'i', 'think', 'its', 'probably', 'because', '=', 'they', 'both', 'delve', 'in', 'a', 'story', 'of', 'global', 'proportions', 'and', 'indulges', 'in', 'the', '=', 'premise', 'of', 'hope', ',', 'faith', 'and', 'life', 'itself', '.', 'both', 'do', 'not', 'depend', 'heavily', 'on', '=', 'eye-candy', 'in', 'the', 'form', 'of', 'cgi', 'effects', '.', 'director', 'mimi', 'leder', '(', 'who', 'won', '=', 'numerous', 'awards', 'directing', 'television', 'series', ',', 'and', 'made', 'her', 'debut', 'with', '=', 'peacekeeper', 'last', 'year', ')', 'is', 'definitely', 'a', 'director', 'to', 'watch', '.', '=20', 'despite', 'this', 'being', 'the', 'first', 'of', 'the', 'two', 'meteor', 'movies', 'this', 'summer', '(', 'the', '=', 'other', 'being', 'armageddon', ')', ',', 'i', 'think', 'there', 'will', 'be', 'stark', 'differences', 'in', 'the', '=', 'approach', 'to', 'the', 'subject', 'matter', '.', 'while', 'the', 'premise', 'of', 'both', 'may', 'be', 'the', '=', 'same', ',', 'execution', 'and', 'focus', 'of', 'the', 'films', 'will', 'in', 'fact', 'show', 'that', 'deep', '=', 'impact', 'has', 'more', 'focus', 'on', 'human', 'elements', 'than', 'armageddon', ',', 'which', 'is', 'done', '=', 'by', 'the', 'team', 'which', 'brought', 'us', 'bad', 'boys', ',', 'crimson', 'tide', 'and', 'the', 'rock', '.', '=20', 'deep', 'impact', 'should', 'be', 'able', 'to', 'satisfy', 'a', 'variety', 'of', 'audiences', ';', 'from', 'the', '=', 'most', 'action-craving', 'to', 'those', 'who', 'just', 'want', 'to', 'immerse', 'into', 'its', '=', 'manipulative', 'but', 'nonetheless', 'dramatic', 'premise', '.']\n",
      "\u001b[94m\n",
      "removed stop words and puntuations:\n",
      "\n",
      "['meteor', 'threat', 'set', 'blow', 'away', 'volcanoes', 'twisters', 'summer', 'season', 'could', 'probably', 'ambitious', 'season', 'decade', 'hollywood', 'churning', 'films', 'like', 'deep', 'impact', 'godzilla', 'x-files', 'armageddon', 'truman', 'show', 'one', 'main', 'aim', 'rock', 'box', 'office', 'leading', 'pack', 'summer', 'deep', 'impact', 'one', 'first', 'film', 'releases', \"spielberg-katzenberg-geffen's\", 'dreamworks', 'production', 'company', 'following', 'rather', 'dismal', 'showing', 'previous', 'two', 'releases', 'mousehunt', 'amistad', 'deep', 'impact', 'shines', 'elements', 'could', 'make', 'one', 'biggest', 'movies', 'year', 'deep', 'impact', 'begins', 'discovery', 'earth', 'bound', 'comet', 'school', 'astronomy', 'outing', 'leo', 'beiderman', 'elijah', 'wood', 'subsequently', 'stirred', 'political', 'community', 'world', 'keeping', 'information', 'wraps', 'prevent', 'widespread', 'panic', 'president', 'beck', 'morgan', 'freeman', 'took', 'upon', 'subordinates', 'execute', 'highly', 'secretive', 'space', 'project', 'destroy', 'comet', 'hits', 'earth', 'pursuing', 'sex-scandal', 'story', 'amongst', 'presidential', 'ranks', 'ambitious', 'coming', 'reporter', 'jenny', 'lerner', 'tea', 'leoni', 'unfolds', 'wool', 'president', 'beck', 'pulled', 'citizens', 'world', 'knowledge', 'imminent', 'annihilation', 'mankind', 'enough', 'jenny', 'come', 'terms', 'father', 'maximillian', 'schell', 'leaving', 'mother', 'younger', 'woman', '=20', 'president', 'beck', 'announces', 'discovery', 'preparations', 'destroy', 'comet', 'exactly', 'one-year', 'later', 'much', 'confidence', 'left', 'trace', 'panic', 'within', 'american', 'community', 'achieving', 'fame', 'announcement', 'comet', 'wolf-beiderman', 'en-route', 'earth', 'name', 'discoverers', 'leo', 'beiderman', 'continues', 'life', 'small', 'town', 'young', 'celebrity', 'team', 'astronauts', 'led', 'ageing', 'veteran', 'astronaut', 'spurgeon', 'tanner', 'robert', 'duvall', 'secretly', 'trained', 'carry', 'mission', 'land', 'comet', 'create', 'explosion', 'nuclear', 'device', 'hope', 'blowing', 'current', 'path', 'towards', 'earth', 'despite', 'experienced', 'team', 'younger', 'generation', 'astronauts', 'team', 'doubts', \"tanner's\", 'ability', 'due', 'age', 'problems', 'individuals', 'life', 'earth', 'goes', 'day', 'confident', 'comet', 'destroyed', 'attempt', 'avert', \"wolf-beiderman's\", 'path', 'failed', 'caused', 'comet', 'split', 'two', 'comet', 'wolf', 'comet', 'beiderman', 'president', 'unfolds', 'contingency', 'plan', 'evacuate', 'part', 'population', 'leaving', 'rest', 'die', 'citizens', 'randomly', 'chosen', 'live', 'underground', '2', 'years', 'prior', 'impact', 'dust', 'due', 'impact', 'around', 'earth', 'settled', 'life', 'surface', 'would', 'died', 'jenny', 'leo', 'picked', 'many', 'loved', 'ones', 'handful', \"earth's\", 'population', 'saved', 'destruction', '=20', 'deep', \"impact's\", 'moving', 'moments', 'occur', 'least', 'special-effect', 'laced', 'scenes', 'effects', 'fantastic', 'form', 'small', 'part', 'film', 'indulges', 'development', 'main', 'characters', 'leo', 'lerner', 'tanner', \"leo's\", 'struggle', 'learns', 'girlfriend', 'part', 'population', 'saved', \"lerner's\", 'dwindling', 'relationship', 'father', 'pain', \"mother's\", 'loneliness', \"tanner's\", 'strive', 'gain', 'respect', 'deserves', 'crew', 'ultimate', 'sacrifice', 'form', 'backbone', 'deep', \"impact's\", 'moving', 'moments', 'deep', 'impact', 'smells', 'suspiciously', 'like', 'previous', 'year', 'release', 'contact', 'despite', 'vivid', 'differences', 'think', 'probably', 'delve', 'story', 'global', 'proportions', 'indulges', 'premise', 'hope', 'faith', 'life', 'depend', 'heavily', 'eye-candy', 'form', 'cgi', 'effects', 'director', 'mimi', 'leder', 'numerous', 'awards', 'directing', 'television', 'series', 'made', 'debut', 'peacekeeper', 'last', 'year', 'definitely', 'director', 'watch', '=20', 'despite', 'first', 'two', 'meteor', 'movies', 'summer', 'armageddon', 'think', 'stark', 'differences', 'approach', 'subject', 'matter', 'premise', 'may', 'execution', 'focus', 'films', 'fact', 'show', 'deep', 'impact', 'focus', 'human', 'elements', 'armageddon', 'done', 'team', 'brought', 'us', 'bad', 'boys', 'crimson', 'tide', 'rock', '=20', 'deep', 'impact', 'able', 'satisfy', 'variety', 'audiences', 'action-craving', 'want', 'immerse', 'manipulative', 'nonetheless', 'dramatic', 'premise']\n"
     ]
    }
   ],
   "source": [
    "print('\\033[92m')\n",
    "print(review_tokens)\n",
    "\n",
    "review_clean = []\n",
    "\n",
    "for word in review_tokens: # Go through every word in your tokens list\n",
    "  if( word not in stopwords_english and word not in string.punctuation ): # remove stopwords remove punctuation\n",
    "    review_clean.append(word)\n",
    "\n",
    "print('\\033[94m')\n",
    "print('removed stop words and puntuations:\\n')\n",
    "print(review_clean)"
   ]
  },
  {
   "cell_type": "code",
   "execution_count": 36,
   "metadata": {},
   "outputs": [
    {
     "name": "stdout",
     "output_type": "stream",
     "text": [
      "\u001b[92m\n",
      "['meteor', 'threat', 'set', 'blow', 'away', 'volcanoes', 'twisters', 'summer', 'season', 'could', 'probably', 'ambitious', 'season', 'decade', 'hollywood', 'churning', 'films', 'like', 'deep', 'impact', 'godzilla', 'x-files', 'armageddon', 'truman', 'show', 'one', 'main', 'aim', 'rock', 'box', 'office', 'leading', 'pack', 'summer', 'deep', 'impact', 'one', 'first', 'film', 'releases', \"spielberg-katzenberg-geffen's\", 'dreamworks', 'production', 'company', 'following', 'rather', 'dismal', 'showing', 'previous', 'two', 'releases', 'mousehunt', 'amistad', 'deep', 'impact', 'shines', 'elements', 'could', 'make', 'one', 'biggest', 'movies', 'year', 'deep', 'impact', 'begins', 'discovery', 'earth', 'bound', 'comet', 'school', 'astronomy', 'outing', 'leo', 'beiderman', 'elijah', 'wood', 'subsequently', 'stirred', 'political', 'community', 'world', 'keeping', 'information', 'wraps', 'prevent', 'widespread', 'panic', 'president', 'beck', 'morgan', 'freeman', 'took', 'upon', 'subordinates', 'execute', 'highly', 'secretive', 'space', 'project', 'destroy', 'comet', 'hits', 'earth', 'pursuing', 'sex-scandal', 'story', 'amongst', 'presidential', 'ranks', 'ambitious', 'coming', 'reporter', 'jenny', 'lerner', 'tea', 'leoni', 'unfolds', 'wool', 'president', 'beck', 'pulled', 'citizens', 'world', 'knowledge', 'imminent', 'annihilation', 'mankind', 'enough', 'jenny', 'come', 'terms', 'father', 'maximillian', 'schell', 'leaving', 'mother', 'younger', 'woman', '=20', 'president', 'beck', 'announces', 'discovery', 'preparations', 'destroy', 'comet', 'exactly', 'one-year', 'later', 'much', 'confidence', 'left', 'trace', 'panic', 'within', 'american', 'community', 'achieving', 'fame', 'announcement', 'comet', 'wolf-beiderman', 'en-route', 'earth', 'name', 'discoverers', 'leo', 'beiderman', 'continues', 'life', 'small', 'town', 'young', 'celebrity', 'team', 'astronauts', 'led', 'ageing', 'veteran', 'astronaut', 'spurgeon', 'tanner', 'robert', 'duvall', 'secretly', 'trained', 'carry', 'mission', 'land', 'comet', 'create', 'explosion', 'nuclear', 'device', 'hope', 'blowing', 'current', 'path', 'towards', 'earth', 'despite', 'experienced', 'team', 'younger', 'generation', 'astronauts', 'team', 'doubts', \"tanner's\", 'ability', 'due', 'age', 'problems', 'individuals', 'life', 'earth', 'goes', 'day', 'confident', 'comet', 'destroyed', 'attempt', 'avert', \"wolf-beiderman's\", 'path', 'failed', 'caused', 'comet', 'split', 'two', 'comet', 'wolf', 'comet', 'beiderman', 'president', 'unfolds', 'contingency', 'plan', 'evacuate', 'part', 'population', 'leaving', 'rest', 'die', 'citizens', 'randomly', 'chosen', 'live', 'underground', '2', 'years', 'prior', 'impact', 'dust', 'due', 'impact', 'around', 'earth', 'settled', 'life', 'surface', 'would', 'died', 'jenny', 'leo', 'picked', 'many', 'loved', 'ones', 'handful', \"earth's\", 'population', 'saved', 'destruction', '=20', 'deep', \"impact's\", 'moving', 'moments', 'occur', 'least', 'special-effect', 'laced', 'scenes', 'effects', 'fantastic', 'form', 'small', 'part', 'film', 'indulges', 'development', 'main', 'characters', 'leo', 'lerner', 'tanner', \"leo's\", 'struggle', 'learns', 'girlfriend', 'part', 'population', 'saved', \"lerner's\", 'dwindling', 'relationship', 'father', 'pain', \"mother's\", 'loneliness', \"tanner's\", 'strive', 'gain', 'respect', 'deserves', 'crew', 'ultimate', 'sacrifice', 'form', 'backbone', 'deep', \"impact's\", 'moving', 'moments', 'deep', 'impact', 'smells', 'suspiciously', 'like', 'previous', 'year', 'release', 'contact', 'despite', 'vivid', 'differences', 'think', 'probably', 'delve', 'story', 'global', 'proportions', 'indulges', 'premise', 'hope', 'faith', 'life', 'depend', 'heavily', 'eye-candy', 'form', 'cgi', 'effects', 'director', 'mimi', 'leder', 'numerous', 'awards', 'directing', 'television', 'series', 'made', 'debut', 'peacekeeper', 'last', 'year', 'definitely', 'director', 'watch', '=20', 'despite', 'first', 'two', 'meteor', 'movies', 'summer', 'armageddon', 'think', 'stark', 'differences', 'approach', 'subject', 'matter', 'premise', 'may', 'execution', 'focus', 'films', 'fact', 'show', 'deep', 'impact', 'focus', 'human', 'elements', 'armageddon', 'done', 'team', 'brought', 'us', 'bad', 'boys', 'crimson', 'tide', 'rock', '=20', 'deep', 'impact', 'able', 'satisfy', 'variety', 'audiences', 'action-craving', 'want', 'immerse', 'manipulative', 'nonetheless', 'dramatic', 'premise']\n",
      "\u001b[94m\n",
      "stemmed words:\n",
      "['meteor', 'threat', 'set', 'blow', 'away', 'volcano', 'twister', 'summer', 'season', 'could', 'probabl', 'ambiti', 'season', 'decad', 'hollywood', 'churn', 'film', 'like', 'deep', 'impact', 'godzilla', 'x-file', 'armageddon', 'truman', 'show', 'one', 'main', 'aim', 'rock', 'box', 'offic', 'lead', 'pack', 'summer', 'deep', 'impact', 'one', 'first', 'film', 'releas', \"spielberg-katzenberg-geffen'\", 'dreamwork', 'product', 'compani', 'follow', 'rather', 'dismal', 'show', 'previou', 'two', 'releas', 'mousehunt', 'amistad', 'deep', 'impact', 'shine', 'element', 'could', 'make', 'one', 'biggest', 'movi', 'year', 'deep', 'impact', 'begin', 'discoveri', 'earth', 'bound', 'comet', 'school', 'astronomi', 'outing', 'leo', 'beiderman', 'elijah', 'wood', 'subsequ', 'stir', 'polit', 'commun', 'world', 'keep', 'inform', 'wrap', 'prevent', 'widespread', 'panic', 'presid', 'beck', 'morgan', 'freeman', 'took', 'upon', 'subordin', 'execut', 'highli', 'secret', 'space', 'project', 'destroy', 'comet', 'hit', 'earth', 'pursu', 'sex-scand', 'stori', 'amongst', 'presidenti', 'rank', 'ambiti', 'come', 'report', 'jenni', 'lerner', 'tea', 'leoni', 'unfold', 'wool', 'presid', 'beck', 'pull', 'citizen', 'world', 'knowledg', 'immin', 'annihil', 'mankind', 'enough', 'jenni', 'come', 'term', 'father', 'maximillian', 'schell', 'leav', 'mother', 'younger', 'woman', '=20', 'presid', 'beck', 'announc', 'discoveri', 'prepar', 'destroy', 'comet', 'exactli', 'one-year', 'later', 'much', 'confid', 'left', 'trace', 'panic', 'within', 'american', 'commun', 'achiev', 'fame', 'announc', 'comet', 'wolf-beiderman', 'en-rout', 'earth', 'name', 'discover', 'leo', 'beiderman', 'continu', 'life', 'small', 'town', 'young', 'celebr', 'team', 'astronaut', 'led', 'age', 'veteran', 'astronaut', 'spurgeon', 'tanner', 'robert', 'duval', 'secretli', 'train', 'carri', 'mission', 'land', 'comet', 'creat', 'explos', 'nuclear', 'devic', 'hope', 'blow', 'current', 'path', 'toward', 'earth', 'despit', 'experienc', 'team', 'younger', 'gener', 'astronaut', 'team', 'doubt', \"tanner'\", 'abil', 'due', 'age', 'problem', 'individu', 'life', 'earth', 'goe', 'day', 'confid', 'comet', 'destroy', 'attempt', 'avert', \"wolf-beiderman'\", 'path', 'fail', 'caus', 'comet', 'split', 'two', 'comet', 'wolf', 'comet', 'beiderman', 'presid', 'unfold', 'conting', 'plan', 'evacu', 'part', 'popul', 'leav', 'rest', 'die', 'citizen', 'randomli', 'chosen', 'live', 'underground', '2', 'year', 'prior', 'impact', 'dust', 'due', 'impact', 'around', 'earth', 'settl', 'life', 'surfac', 'would', 'die', 'jenni', 'leo', 'pick', 'mani', 'love', 'one', 'hand', \"earth'\", 'popul', 'save', 'destruct', '=20', 'deep', \"impact'\", 'move', 'moment', 'occur', 'least', 'special-effect', 'lace', 'scene', 'effect', 'fantast', 'form', 'small', 'part', 'film', 'indulg', 'develop', 'main', 'charact', 'leo', 'lerner', 'tanner', \"leo'\", 'struggl', 'learn', 'girlfriend', 'part', 'popul', 'save', \"lerner'\", 'dwindl', 'relationship', 'father', 'pain', \"mother'\", 'loneli', \"tanner'\", 'strive', 'gain', 'respect', 'deserv', 'crew', 'ultim', 'sacrific', 'form', 'backbon', 'deep', \"impact'\", 'move', 'moment', 'deep', 'impact', 'smell', 'suspici', 'like', 'previou', 'year', 'releas', 'contact', 'despit', 'vivid', 'differ', 'think', 'probabl', 'delv', 'stori', 'global', 'proport', 'indulg', 'premis', 'hope', 'faith', 'life', 'depend', 'heavili', 'eye-candi', 'form', 'cgi', 'effect', 'director', 'mimi', 'leder', 'numer', 'award', 'direct', 'televis', 'seri', 'made', 'debut', 'peacekeep', 'last', 'year', 'definit', 'director', 'watch', '=20', 'despit', 'first', 'two', 'meteor', 'movi', 'summer', 'armageddon', 'think', 'stark', 'differ', 'approach', 'subject', 'matter', 'premis', 'may', 'execut', 'focu', 'film', 'fact', 'show', 'deep', 'impact', 'focu', 'human', 'element', 'armageddon', 'done', 'team', 'brought', 'us', 'bad', 'boy', 'crimson', 'tide', 'rock', '=20', 'deep', 'impact', 'abl', 'satisfi', 'varieti', 'audienc', 'action-crav', 'want', 'immers', 'manipul', 'nonetheless', 'dramat', 'premis']\n"
     ]
    }
   ],
   "source": [
    "#Stemming Words\n",
    "print('\\033[92m')\n",
    "print(review_clean)\n",
    "\n",
    "# Instantiate stemming class\n",
    "stemmer = PorterStemmer()\n",
    "\n",
    "# Create an empty list to store the stems\n",
    "review_stem = []\n",
    "\n",
    "for word in review_clean:\n",
    "  stem_word = stemmer.stem(word) # stemming word\n",
    "  review_stem.append(stem_word) # append to the list\n",
    "\n",
    "print('\\033[94m')\n",
    "print('stemmed words:')\n",
    "print(review_stem)"
   ]
  },
  {
   "cell_type": "code",
   "execution_count": 37,
   "metadata": {},
   "outputs": [
    {
     "name": "stderr",
     "output_type": "stream",
     "text": [
      "[nltk_data] Downloading package wordnet to\n",
      "[nltk_data]     C:\\Users\\ruchi\\AppData\\Roaming\\nltk_data...\n",
      "[nltk_data]   Package wordnet is already up-to-date!\n"
     ]
    },
    {
     "data": {
      "text/plain": [
       "True"
      ]
     },
     "execution_count": 37,
     "metadata": {},
     "output_type": "execute_result"
    }
   ],
   "source": [
    "nltk.download('wordnet')"
   ]
  },
  {
   "cell_type": "code",
   "execution_count": 38,
   "metadata": {},
   "outputs": [
    {
     "name": "stdout",
     "output_type": "stream",
     "text": [
      "\u001b[92m\n",
      "['meteor', 'threat', 'set', 'blow', 'away', 'volcanoes', 'twisters', 'summer', 'season', 'could', 'probably', 'ambitious', 'season', 'decade', 'hollywood', 'churning', 'films', 'like', 'deep', 'impact', 'godzilla', 'x-files', 'armageddon', 'truman', 'show', 'one', 'main', 'aim', 'rock', 'box', 'office', 'leading', 'pack', 'summer', 'deep', 'impact', 'one', 'first', 'film', 'releases', \"spielberg-katzenberg-geffen's\", 'dreamworks', 'production', 'company', 'following', 'rather', 'dismal', 'showing', 'previous', 'two', 'releases', 'mousehunt', 'amistad', 'deep', 'impact', 'shines', 'elements', 'could', 'make', 'one', 'biggest', 'movies', 'year', 'deep', 'impact', 'begins', 'discovery', 'earth', 'bound', 'comet', 'school', 'astronomy', 'outing', 'leo', 'beiderman', 'elijah', 'wood', 'subsequently', 'stirred', 'political', 'community', 'world', 'keeping', 'information', 'wraps', 'prevent', 'widespread', 'panic', 'president', 'beck', 'morgan', 'freeman', 'took', 'upon', 'subordinates', 'execute', 'highly', 'secretive', 'space', 'project', 'destroy', 'comet', 'hits', 'earth', 'pursuing', 'sex-scandal', 'story', 'amongst', 'presidential', 'ranks', 'ambitious', 'coming', 'reporter', 'jenny', 'lerner', 'tea', 'leoni', 'unfolds', 'wool', 'president', 'beck', 'pulled', 'citizens', 'world', 'knowledge', 'imminent', 'annihilation', 'mankind', 'enough', 'jenny', 'come', 'terms', 'father', 'maximillian', 'schell', 'leaving', 'mother', 'younger', 'woman', '=20', 'president', 'beck', 'announces', 'discovery', 'preparations', 'destroy', 'comet', 'exactly', 'one-year', 'later', 'much', 'confidence', 'left', 'trace', 'panic', 'within', 'american', 'community', 'achieving', 'fame', 'announcement', 'comet', 'wolf-beiderman', 'en-route', 'earth', 'name', 'discoverers', 'leo', 'beiderman', 'continues', 'life', 'small', 'town', 'young', 'celebrity', 'team', 'astronauts', 'led', 'ageing', 'veteran', 'astronaut', 'spurgeon', 'tanner', 'robert', 'duvall', 'secretly', 'trained', 'carry', 'mission', 'land', 'comet', 'create', 'explosion', 'nuclear', 'device', 'hope', 'blowing', 'current', 'path', 'towards', 'earth', 'despite', 'experienced', 'team', 'younger', 'generation', 'astronauts', 'team', 'doubts', \"tanner's\", 'ability', 'due', 'age', 'problems', 'individuals', 'life', 'earth', 'goes', 'day', 'confident', 'comet', 'destroyed', 'attempt', 'avert', \"wolf-beiderman's\", 'path', 'failed', 'caused', 'comet', 'split', 'two', 'comet', 'wolf', 'comet', 'beiderman', 'president', 'unfolds', 'contingency', 'plan', 'evacuate', 'part', 'population', 'leaving', 'rest', 'die', 'citizens', 'randomly', 'chosen', 'live', 'underground', '2', 'years', 'prior', 'impact', 'dust', 'due', 'impact', 'around', 'earth', 'settled', 'life', 'surface', 'would', 'died', 'jenny', 'leo', 'picked', 'many', 'loved', 'ones', 'handful', \"earth's\", 'population', 'saved', 'destruction', '=20', 'deep', \"impact's\", 'moving', 'moments', 'occur', 'least', 'special-effect', 'laced', 'scenes', 'effects', 'fantastic', 'form', 'small', 'part', 'film', 'indulges', 'development', 'main', 'characters', 'leo', 'lerner', 'tanner', \"leo's\", 'struggle', 'learns', 'girlfriend', 'part', 'population', 'saved', \"lerner's\", 'dwindling', 'relationship', 'father', 'pain', \"mother's\", 'loneliness', \"tanner's\", 'strive', 'gain', 'respect', 'deserves', 'crew', 'ultimate', 'sacrifice', 'form', 'backbone', 'deep', \"impact's\", 'moving', 'moments', 'deep', 'impact', 'smells', 'suspiciously', 'like', 'previous', 'year', 'release', 'contact', 'despite', 'vivid', 'differences', 'think', 'probably', 'delve', 'story', 'global', 'proportions', 'indulges', 'premise', 'hope', 'faith', 'life', 'depend', 'heavily', 'eye-candy', 'form', 'cgi', 'effects', 'director', 'mimi', 'leder', 'numerous', 'awards', 'directing', 'television', 'series', 'made', 'debut', 'peacekeeper', 'last', 'year', 'definitely', 'director', 'watch', '=20', 'despite', 'first', 'two', 'meteor', 'movies', 'summer', 'armageddon', 'think', 'stark', 'differences', 'approach', 'subject', 'matter', 'premise', 'may', 'execution', 'focus', 'films', 'fact', 'show', 'deep', 'impact', 'focus', 'human', 'elements', 'armageddon', 'done', 'team', 'brought', 'us', 'bad', 'boys', 'crimson', 'tide', 'rock', '=20', 'deep', 'impact', 'able', 'satisfy', 'variety', 'audiences', 'action-craving', 'want', 'immerse', 'manipulative', 'nonetheless', 'dramatic', 'premise']\n",
      "\u001b[94m\n",
      "lemmatized words:\n",
      "['meteor', 'threat', 'set', 'blow', 'away', 'volcano', 'twister', 'summer', 'season', 'could', 'probably', 'ambitious', 'season', 'decade', 'hollywood', 'churning', 'film', 'like', 'deep', 'impact', 'godzilla', 'x-files', 'armageddon', 'truman', 'show', 'one', 'main', 'aim', 'rock', 'box', 'office', 'leading', 'pack', 'summer', 'deep', 'impact', 'one', 'first', 'film', 'release', \"spielberg-katzenberg-geffen's\", 'dreamworks', 'production', 'company', 'following', 'rather', 'dismal', 'showing', 'previous', 'two', 'release', 'mousehunt', 'amistad', 'deep', 'impact', 'shine', 'element', 'could', 'make', 'one', 'biggest', 'movie', 'year', 'deep', 'impact', 'begin', 'discovery', 'earth', 'bound', 'comet', 'school', 'astronomy', 'outing', 'leo', 'beiderman', 'elijah', 'wood', 'subsequently', 'stirred', 'political', 'community', 'world', 'keeping', 'information', 'wrap', 'prevent', 'widespread', 'panic', 'president', 'beck', 'morgan', 'freeman', 'took', 'upon', 'subordinate', 'execute', 'highly', 'secretive', 'space', 'project', 'destroy', 'comet', 'hit', 'earth', 'pursuing', 'sex-scandal', 'story', 'amongst', 'presidential', 'rank', 'ambitious', 'coming', 'reporter', 'jenny', 'lerner', 'tea', 'leoni', 'unfolds', 'wool', 'president', 'beck', 'pulled', 'citizen', 'world', 'knowledge', 'imminent', 'annihilation', 'mankind', 'enough', 'jenny', 'come', 'term', 'father', 'maximillian', 'schell', 'leaving', 'mother', 'younger', 'woman', '=20', 'president', 'beck', 'announces', 'discovery', 'preparation', 'destroy', 'comet', 'exactly', 'one-year', 'later', 'much', 'confidence', 'left', 'trace', 'panic', 'within', 'american', 'community', 'achieving', 'fame', 'announcement', 'comet', 'wolf-beiderman', 'en-route', 'earth', 'name', 'discoverer', 'leo', 'beiderman', 'continues', 'life', 'small', 'town', 'young', 'celebrity', 'team', 'astronaut', 'led', 'ageing', 'veteran', 'astronaut', 'spurgeon', 'tanner', 'robert', 'duvall', 'secretly', 'trained', 'carry', 'mission', 'land', 'comet', 'create', 'explosion', 'nuclear', 'device', 'hope', 'blowing', 'current', 'path', 'towards', 'earth', 'despite', 'experienced', 'team', 'younger', 'generation', 'astronaut', 'team', 'doubt', \"tanner's\", 'ability', 'due', 'age', 'problem', 'individual', 'life', 'earth', 'go', 'day', 'confident', 'comet', 'destroyed', 'attempt', 'avert', \"wolf-beiderman's\", 'path', 'failed', 'caused', 'comet', 'split', 'two', 'comet', 'wolf', 'comet', 'beiderman', 'president', 'unfolds', 'contingency', 'plan', 'evacuate', 'part', 'population', 'leaving', 'rest', 'die', 'citizen', 'randomly', 'chosen', 'live', 'underground', '2', 'year', 'prior', 'impact', 'dust', 'due', 'impact', 'around', 'earth', 'settled', 'life', 'surface', 'would', 'died', 'jenny', 'leo', 'picked', 'many', 'loved', 'one', 'handful', \"earth's\", 'population', 'saved', 'destruction', '=20', 'deep', \"impact's\", 'moving', 'moment', 'occur', 'least', 'special-effect', 'laced', 'scene', 'effect', 'fantastic', 'form', 'small', 'part', 'film', 'indulges', 'development', 'main', 'character', 'leo', 'lerner', 'tanner', \"leo's\", 'struggle', 'learns', 'girlfriend', 'part', 'population', 'saved', \"lerner's\", 'dwindling', 'relationship', 'father', 'pain', \"mother's\", 'loneliness', \"tanner's\", 'strive', 'gain', 'respect', 'deserves', 'crew', 'ultimate', 'sacrifice', 'form', 'backbone', 'deep', \"impact's\", 'moving', 'moment', 'deep', 'impact', 'smell', 'suspiciously', 'like', 'previous', 'year', 'release', 'contact', 'despite', 'vivid', 'difference', 'think', 'probably', 'delve', 'story', 'global', 'proportion', 'indulges', 'premise', 'hope', 'faith', 'life', 'depend', 'heavily', 'eye-candy', 'form', 'cgi', 'effect', 'director', 'mimi', 'leder', 'numerous', 'award', 'directing', 'television', 'series', 'made', 'debut', 'peacekeeper', 'last', 'year', 'definitely', 'director', 'watch', '=20', 'despite', 'first', 'two', 'meteor', 'movie', 'summer', 'armageddon', 'think', 'stark', 'difference', 'approach', 'subject', 'matter', 'premise', 'may', 'execution', 'focus', 'film', 'fact', 'show', 'deep', 'impact', 'focus', 'human', 'element', 'armageddon', 'done', 'team', 'brought', 'u', 'bad', 'boy', 'crimson', 'tide', 'rock', '=20', 'deep', 'impact', 'able', 'satisfy', 'variety', 'audience', 'action-craving', 'want', 'immerse', 'manipulative', 'nonetheless', 'dramatic', 'premise']\n"
     ]
    }
   ],
   "source": [
    "print('\\033[92m')\n",
    "print(review_clean)\n",
    "\n",
    "wordnet_lemmatizer = WordNetLemmatizer()\n",
    "\n",
    "review_lem = []\n",
    "\n",
    "for word in review_clean:\n",
    "  lem_words = wordnet_lemmatizer.lemmatize(word)\n",
    "  review_lem.append(lem_words)\n",
    "\n",
    "print('\\033[94m')\n",
    "print('lemmatized words:')\n",
    "print(review_lem)"
   ]
  },
  {
   "attachments": {},
   "cell_type": "markdown",
   "metadata": {},
   "source": [
    "**Pandas Library**"
   ]
  },
  {
   "cell_type": "code",
   "execution_count": 39,
   "metadata": {},
   "outputs": [
    {
     "data": {
      "text/html": [
       "<div>\n",
       "<style scoped>\n",
       "    .dataframe tbody tr th:only-of-type {\n",
       "        vertical-align: middle;\n",
       "    }\n",
       "\n",
       "    .dataframe tbody tr th {\n",
       "        vertical-align: top;\n",
       "    }\n",
       "\n",
       "    .dataframe thead th {\n",
       "        text-align: right;\n",
       "    }\n",
       "</style>\n",
       "<table border=\"1\" class=\"dataframe\">\n",
       "  <thead>\n",
       "    <tr style=\"text-align: right;\">\n",
       "      <th></th>\n",
       "      <th>Id</th>\n",
       "      <th>SepalLengthCm</th>\n",
       "      <th>SepalWidthCm</th>\n",
       "      <th>PetalLengthCm</th>\n",
       "      <th>PetalWidthCm</th>\n",
       "    </tr>\n",
       "  </thead>\n",
       "  <tbody>\n",
       "    <tr>\n",
       "      <th>count</th>\n",
       "      <td>150.000000</td>\n",
       "      <td>150.000000</td>\n",
       "      <td>150.000000</td>\n",
       "      <td>150.000000</td>\n",
       "      <td>150.000000</td>\n",
       "    </tr>\n",
       "    <tr>\n",
       "      <th>mean</th>\n",
       "      <td>75.500000</td>\n",
       "      <td>5.843333</td>\n",
       "      <td>3.054000</td>\n",
       "      <td>3.758667</td>\n",
       "      <td>1.198667</td>\n",
       "    </tr>\n",
       "    <tr>\n",
       "      <th>std</th>\n",
       "      <td>43.445368</td>\n",
       "      <td>0.828066</td>\n",
       "      <td>0.433594</td>\n",
       "      <td>1.764420</td>\n",
       "      <td>0.763161</td>\n",
       "    </tr>\n",
       "    <tr>\n",
       "      <th>min</th>\n",
       "      <td>1.000000</td>\n",
       "      <td>4.300000</td>\n",
       "      <td>2.000000</td>\n",
       "      <td>1.000000</td>\n",
       "      <td>0.100000</td>\n",
       "    </tr>\n",
       "    <tr>\n",
       "      <th>25%</th>\n",
       "      <td>38.250000</td>\n",
       "      <td>5.100000</td>\n",
       "      <td>2.800000</td>\n",
       "      <td>1.600000</td>\n",
       "      <td>0.300000</td>\n",
       "    </tr>\n",
       "    <tr>\n",
       "      <th>50%</th>\n",
       "      <td>75.500000</td>\n",
       "      <td>5.800000</td>\n",
       "      <td>3.000000</td>\n",
       "      <td>4.350000</td>\n",
       "      <td>1.300000</td>\n",
       "    </tr>\n",
       "    <tr>\n",
       "      <th>75%</th>\n",
       "      <td>112.750000</td>\n",
       "      <td>6.400000</td>\n",
       "      <td>3.300000</td>\n",
       "      <td>5.100000</td>\n",
       "      <td>1.800000</td>\n",
       "    </tr>\n",
       "    <tr>\n",
       "      <th>max</th>\n",
       "      <td>150.000000</td>\n",
       "      <td>7.900000</td>\n",
       "      <td>4.400000</td>\n",
       "      <td>6.900000</td>\n",
       "      <td>2.500000</td>\n",
       "    </tr>\n",
       "  </tbody>\n",
       "</table>\n",
       "</div>"
      ],
      "text/plain": [
       "               Id  SepalLengthCm  SepalWidthCm  PetalLengthCm  PetalWidthCm\n",
       "count  150.000000     150.000000    150.000000     150.000000    150.000000\n",
       "mean    75.500000       5.843333      3.054000       3.758667      1.198667\n",
       "std     43.445368       0.828066      0.433594       1.764420      0.763161\n",
       "min      1.000000       4.300000      2.000000       1.000000      0.100000\n",
       "25%     38.250000       5.100000      2.800000       1.600000      0.300000\n",
       "50%     75.500000       5.800000      3.000000       4.350000      1.300000\n",
       "75%    112.750000       6.400000      3.300000       5.100000      1.800000\n",
       "max    150.000000       7.900000      4.400000       6.900000      2.500000"
      ]
     },
     "execution_count": 39,
     "metadata": {},
     "output_type": "execute_result"
    }
   ],
   "source": [
    "df = pd.read_csv('Iris.csv')\n",
    "df.describe()"
   ]
  },
  {
   "cell_type": "code",
   "execution_count": 40,
   "metadata": {},
   "outputs": [
    {
     "data": {
      "image/png": "[encoded data removed]",
      "text/plain": [
       "<Figure size 640x480 with 1 Axes>"
      ]
     },
     "metadata": {},
     "output_type": "display_data"
    }
   ],
   "source": [
    "# Q1 Draw Scatter Plot between SepalLengthCm and SepalWidthCm for \"Iris.csv\" with proper labelling\n",
    "plt.scatter(df['SepalLengthCm'], df['SepalWidthCm'])\n",
    "plt.xlabel(\"SepalLengthCm\")\n",
    "plt.ylabel(\"SepalWidthCm\")\n",
    "plt.show()"
   ]
  },
  {
   "cell_type": "code",
   "execution_count": 41,
   "metadata": {},
   "outputs": [
    {
     "data": {
      "image/png": "[encoded data removed]",
      "text/plain": [
       "<Figure size 640x480 with 1 Axes>"
      ]
     },
     "metadata": {},
     "output_type": "display_data"
    }
   ],
   "source": [
    "# Q2 Draw Histogram of SepalLengthCm with proper labelling\n",
    "plt.hist(df['SepalLengthCm'], bins=5)\n",
    "plt.xlabel('SepalLengthCm')\n",
    "plt.show()"
   ]
  },
  {
   "cell_type": "code",
   "execution_count": 42,
   "metadata": {},
   "outputs": [
    {
     "data": {
      "image/png": "[encoded data removed]",
      "text/plain": [
       "<Figure size 640x480 with 1 Axes>"
      ]
     },
     "metadata": {},
     "output_type": "display_data"
    }
   ],
   "source": [
    "# Q3 Plot bar chart of Species.\n",
    "plt.bar(df['Species'], height = df['Id'])\n",
    "plt.xlabel('Species')\n",
    "plt.ylabel('Id')\n",
    "plt.show()"
   ]
  },
  {
   "cell_type": "code",
   "execution_count": 43,
   "metadata": {},
   "outputs": [
    {
     "name": "stdout",
     "output_type": "stream",
     "text": [
      "Total Null Data:  Id               0\n",
      "SepalLengthCm    0\n",
      "SepalWidthCm     0\n",
      "PetalLengthCm    0\n",
      "PetalWidthCm     0\n",
      "Species          0\n",
      "dtype: int64\n"
     ]
    }
   ],
   "source": [
    "# Q4 Count null values for each column in this dataset\n",
    "print(\"Total Null Data: \", df.isnull().sum())"
   ]
  },
  {
   "cell_type": "code",
   "execution_count": 44,
   "metadata": {},
   "outputs": [
    {
     "data": {
      "text/plain": [
       "0    5.1\n",
       "1    4.9\n",
       "2    4.7\n",
       "3    4.6\n",
       "4    5.0\n",
       "Name: SepalLengthCm, dtype: float64"
      ]
     },
     "execution_count": 44,
     "metadata": {},
     "output_type": "execute_result"
    }
   ],
   "source": [
    "# Q5 i) Print first 5 rows of SepalLengthCm.\n",
    "df.loc[0:4, 'SepalLengthCm']\n"
   ]
  },
  {
   "cell_type": "code",
   "execution_count": 45,
   "metadata": {},
   "outputs": [
    {
     "data": {
      "text/html": [
       "<div>\n",
       "<style scoped>\n",
       "    .dataframe tbody tr th:only-of-type {\n",
       "        vertical-align: middle;\n",
       "    }\n",
       "\n",
       "    .dataframe tbody tr th {\n",
       "        vertical-align: top;\n",
       "    }\n",
       "\n",
       "    .dataframe thead th {\n",
       "        text-align: right;\n",
       "    }\n",
       "</style>\n",
       "<table border=\"1\" class=\"dataframe\">\n",
       "  <thead>\n",
       "    <tr style=\"text-align: right;\">\n",
       "      <th></th>\n",
       "      <th>Id</th>\n",
       "      <th>SepalLengthCm</th>\n",
       "      <th>SepalWidthCm</th>\n",
       "      <th>PetalLengthCm</th>\n",
       "      <th>PetalWidthCm</th>\n",
       "      <th>Species</th>\n",
       "    </tr>\n",
       "  </thead>\n",
       "  <tbody>\n",
       "    <tr>\n",
       "      <th>4</th>\n",
       "      <td>5</td>\n",
       "      <td>5.0</td>\n",
       "      <td>3.6</td>\n",
       "      <td>1.4</td>\n",
       "      <td>0.2</td>\n",
       "      <td>Iris-setosa</td>\n",
       "    </tr>\n",
       "    <tr>\n",
       "      <th>5</th>\n",
       "      <td>6</td>\n",
       "      <td>5.4</td>\n",
       "      <td>3.9</td>\n",
       "      <td>1.7</td>\n",
       "      <td>0.4</td>\n",
       "      <td>Iris-setosa</td>\n",
       "    </tr>\n",
       "    <tr>\n",
       "      <th>6</th>\n",
       "      <td>7</td>\n",
       "      <td>4.6</td>\n",
       "      <td>3.4</td>\n",
       "      <td>1.4</td>\n",
       "      <td>0.3</td>\n",
       "      <td>Iris-setosa</td>\n",
       "    </tr>\n",
       "    <tr>\n",
       "      <th>7</th>\n",
       "      <td>8</td>\n",
       "      <td>5.0</td>\n",
       "      <td>3.4</td>\n",
       "      <td>1.5</td>\n",
       "      <td>0.2</td>\n",
       "      <td>Iris-setosa</td>\n",
       "    </tr>\n",
       "    <tr>\n",
       "      <th>8</th>\n",
       "      <td>9</td>\n",
       "      <td>4.4</td>\n",
       "      <td>2.9</td>\n",
       "      <td>1.4</td>\n",
       "      <td>0.2</td>\n",
       "      <td>Iris-setosa</td>\n",
       "    </tr>\n",
       "    <tr>\n",
       "      <th>...</th>\n",
       "      <td>...</td>\n",
       "      <td>...</td>\n",
       "      <td>...</td>\n",
       "      <td>...</td>\n",
       "      <td>...</td>\n",
       "      <td>...</td>\n",
       "    </tr>\n",
       "    <tr>\n",
       "      <th>145</th>\n",
       "      <td>146</td>\n",
       "      <td>6.7</td>\n",
       "      <td>3.0</td>\n",
       "      <td>5.2</td>\n",
       "      <td>2.3</td>\n",
       "      <td>Iris-virginica</td>\n",
       "    </tr>\n",
       "    <tr>\n",
       "      <th>146</th>\n",
       "      <td>147</td>\n",
       "      <td>6.3</td>\n",
       "      <td>2.5</td>\n",
       "      <td>5.0</td>\n",
       "      <td>1.9</td>\n",
       "      <td>Iris-virginica</td>\n",
       "    </tr>\n",
       "    <tr>\n",
       "      <th>147</th>\n",
       "      <td>148</td>\n",
       "      <td>6.5</td>\n",
       "      <td>3.0</td>\n",
       "      <td>5.2</td>\n",
       "      <td>2.0</td>\n",
       "      <td>Iris-virginica</td>\n",
       "    </tr>\n",
       "    <tr>\n",
       "      <th>148</th>\n",
       "      <td>149</td>\n",
       "      <td>6.2</td>\n",
       "      <td>3.4</td>\n",
       "      <td>5.4</td>\n",
       "      <td>2.3</td>\n",
       "      <td>Iris-virginica</td>\n",
       "    </tr>\n",
       "    <tr>\n",
       "      <th>149</th>\n",
       "      <td>150</td>\n",
       "      <td>5.9</td>\n",
       "      <td>3.0</td>\n",
       "      <td>5.1</td>\n",
       "      <td>1.8</td>\n",
       "      <td>Iris-virginica</td>\n",
       "    </tr>\n",
       "  </tbody>\n",
       "</table>\n",
       "<p>146 rows × 6 columns</p>\n",
       "</div>"
      ],
      "text/plain": [
       "      Id  SepalLengthCm  SepalWidthCm  PetalLengthCm  PetalWidthCm  \\\n",
       "4      5            5.0           3.6            1.4           0.2   \n",
       "5      6            5.4           3.9            1.7           0.4   \n",
       "6      7            4.6           3.4            1.4           0.3   \n",
       "7      8            5.0           3.4            1.5           0.2   \n",
       "8      9            4.4           2.9            1.4           0.2   \n",
       "..   ...            ...           ...            ...           ...   \n",
       "145  146            6.7           3.0            5.2           2.3   \n",
       "146  147            6.3           2.5            5.0           1.9   \n",
       "147  148            6.5           3.0            5.2           2.0   \n",
       "148  149            6.2           3.4            5.4           2.3   \n",
       "149  150            5.9           3.0            5.1           1.8   \n",
       "\n",
       "            Species  \n",
       "4       Iris-setosa  \n",
       "5       Iris-setosa  \n",
       "6       Iris-setosa  \n",
       "7       Iris-setosa  \n",
       "8       Iris-setosa  \n",
       "..              ...  \n",
       "145  Iris-virginica  \n",
       "146  Iris-virginica  \n",
       "147  Iris-virginica  \n",
       "148  Iris-virginica  \n",
       "149  Iris-virginica  \n",
       "\n",
       "[146 rows x 6 columns]"
      ]
     },
     "execution_count": 45,
     "metadata": {},
     "output_type": "execute_result"
    }
   ],
   "source": [
    "# Q5 ii) Print from 5th row and onwards and entire column of Iris.csv dataset\n",
    "df.iloc[4:, 0:]"
   ]
  },
  {
   "attachments": {},
   "cell_type": "markdown",
   "metadata": {},
   "source": [
    "**Scikit Learn Library**"
   ]
  },
  {
   "cell_type": "code",
   "execution_count": 46,
   "metadata": {},
   "outputs": [],
   "source": [
    "# Perform the above steps on any Breast Cancer Dataset available in Sklearn library\n",
    "from sklearn import datasets\n",
    "from sklearn.model_selection import train_test_split"
   ]
  },
  {
   "cell_type": "code",
   "execution_count": 47,
   "metadata": {},
   "outputs": [],
   "source": [
    "dataset = datasets.load_breast_cancer()"
   ]
  },
  {
   "cell_type": "code",
   "execution_count": 48,
   "metadata": {},
   "outputs": [
    {
     "name": "stdout",
     "output_type": "stream",
     "text": [
      "Feature names: ['mean radius' 'mean texture' 'mean perimeter' 'mean area'\n",
      " 'mean smoothness' 'mean compactness' 'mean concavity'\n",
      " 'mean concave points' 'mean symmetry' 'mean fractal dimension'\n",
      " 'radius error' 'texture error' 'perimeter error' 'area error'\n",
      " 'smoothness error' 'compactness error' 'concavity error'\n",
      " 'concave points error' 'symmetry error' 'fractal dimension error'\n",
      " 'worst radius' 'worst texture' 'worst perimeter' 'worst area'\n",
      " 'worst smoothness' 'worst compactness' 'worst concavity'\n",
      " 'worst concave points' 'worst symmetry' 'worst fractal dimension']\n",
      "\n",
      "Target names: ['malignant' 'benign']\n",
      "\n",
      "First 10 rows of X:\n",
      " [[1.799e+01 1.038e+01 1.228e+02 1.001e+03 1.184e-01 2.776e-01 3.001e-01\n",
      "  1.471e-01 2.419e-01 7.871e-02 1.095e+00 9.053e-01 8.589e+00 1.534e+02\n",
      "  6.399e-03 4.904e-02 5.373e-02 1.587e-02 3.003e-02 6.193e-03 2.538e+01\n",
      "  1.733e+01 1.846e+02 2.019e+03 1.622e-01 6.656e-01 7.119e-01 2.654e-01\n",
      "  4.601e-01 1.189e-01]\n",
      " [2.057e+01 1.777e+01 1.329e+02 1.326e+03 8.474e-02 7.864e-02 8.690e-02\n",
      "  7.017e-02 1.812e-01 5.667e-02 5.435e-01 7.339e-01 3.398e+00 7.408e+01\n",
      "  5.225e-03 1.308e-02 1.860e-02 1.340e-02 1.389e-02 3.532e-03 2.499e+01\n",
      "  2.341e+01 1.588e+02 1.956e+03 1.238e-01 1.866e-01 2.416e-01 1.860e-01\n",
      "  2.750e-01 8.902e-02]\n",
      " [1.969e+01 2.125e+01 1.300e+02 1.203e+03 1.096e-01 1.599e-01 1.974e-01\n",
      "  1.279e-01 2.069e-01 5.999e-02 7.456e-01 7.869e-01 4.585e+00 9.403e+01\n",
      "  6.150e-03 4.006e-02 3.832e-02 2.058e-02 2.250e-02 4.571e-03 2.357e+01\n",
      "  2.553e+01 1.525e+02 1.709e+03 1.444e-01 4.245e-01 4.504e-01 2.430e-01\n",
      "  3.613e-01 8.758e-02]\n",
      " [1.142e+01 2.038e+01 7.758e+01 3.861e+02 1.425e-01 2.839e-01 2.414e-01\n",
      "  1.052e-01 2.597e-01 9.744e-02 4.956e-01 1.156e+00 3.445e+00 2.723e+01\n",
      "  9.110e-03 7.458e-02 5.661e-02 1.867e-02 5.963e-02 9.208e-03 1.491e+01\n",
      "  2.650e+01 9.887e+01 5.677e+02 2.098e-01 8.663e-01 6.869e-01 2.575e-01\n",
      "  6.638e-01 1.730e-01]\n",
      " [2.029e+01 1.434e+01 1.351e+02 1.297e+03 1.003e-01 1.328e-01 1.980e-01\n",
      "  1.043e-01 1.809e-01 5.883e-02 7.572e-01 7.813e-01 5.438e+00 9.444e+01\n",
      "  1.149e-02 2.461e-02 5.688e-02 1.885e-02 1.756e-02 5.115e-03 2.254e+01\n",
      "  1.667e+01 1.522e+02 1.575e+03 1.374e-01 2.050e-01 4.000e-01 1.625e-01\n",
      "  2.364e-01 7.678e-02]\n",
      " [1.245e+01 1.570e+01 8.257e+01 4.771e+02 1.278e-01 1.700e-01 1.578e-01\n",
      "  8.089e-02 2.087e-01 7.613e-02 3.345e-01 8.902e-01 2.217e+00 2.719e+01\n",
      "  7.510e-03 3.345e-02 3.672e-02 1.137e-02 2.165e-02 5.082e-03 1.547e+01\n",
      "  2.375e+01 1.034e+02 7.416e+02 1.791e-01 5.249e-01 5.355e-01 1.741e-01\n",
      "  3.985e-01 1.244e-01]\n",
      " [1.825e+01 1.998e+01 1.196e+02 1.040e+03 9.463e-02 1.090e-01 1.127e-01\n",
      "  7.400e-02 1.794e-01 5.742e-02 4.467e-01 7.732e-01 3.180e+00 5.391e+01\n",
      "  4.314e-03 1.382e-02 2.254e-02 1.039e-02 1.369e-02 2.179e-03 2.288e+01\n",
      "  2.766e+01 1.532e+02 1.606e+03 1.442e-01 2.576e-01 3.784e-01 1.932e-01\n",
      "  3.063e-01 8.368e-02]\n",
      " [1.371e+01 2.083e+01 9.020e+01 5.779e+02 1.189e-01 1.645e-01 9.366e-02\n",
      "  5.985e-02 2.196e-01 7.451e-02 5.835e-01 1.377e+00 3.856e+00 5.096e+01\n",
      "  8.805e-03 3.029e-02 2.488e-02 1.448e-02 1.486e-02 5.412e-03 1.706e+01\n",
      "  2.814e+01 1.106e+02 8.970e+02 1.654e-01 3.682e-01 2.678e-01 1.556e-01\n",
      "  3.196e-01 1.151e-01]\n",
      " [1.300e+01 2.182e+01 8.750e+01 5.198e+02 1.273e-01 1.932e-01 1.859e-01\n",
      "  9.353e-02 2.350e-01 7.389e-02 3.063e-01 1.002e+00 2.406e+00 2.432e+01\n",
      "  5.731e-03 3.502e-02 3.553e-02 1.226e-02 2.143e-02 3.749e-03 1.549e+01\n",
      "  3.073e+01 1.062e+02 7.393e+02 1.703e-01 5.401e-01 5.390e-01 2.060e-01\n",
      "  4.378e-01 1.072e-01]\n",
      " [1.246e+01 2.404e+01 8.397e+01 4.759e+02 1.186e-01 2.396e-01 2.273e-01\n",
      "  8.543e-02 2.030e-01 8.243e-02 2.976e-01 1.599e+00 2.039e+00 2.394e+01\n",
      "  7.149e-03 7.217e-02 7.743e-02 1.432e-02 1.789e-02 1.008e-02 1.509e+01\n",
      "  4.068e+01 9.765e+01 7.114e+02 1.853e-01 1.058e+00 1.105e+00 2.210e-01\n",
      "  4.366e-01 2.075e-01]]\n"
     ]
    }
   ],
   "source": [
    "X = dataset.data\n",
    "y = dataset.target\n",
    "\n",
    "features_names = dataset.feature_names\n",
    "target_names = dataset.target_names\n",
    "\n",
    "print(\"Feature names:\", features_names)\n",
    "print(\"\\nTarget names:\", target_names)\n",
    "print(\"\\nFirst 10 rows of X:\\n\", X[:10])"
   ]
  },
  {
   "cell_type": "code",
   "execution_count": 49,
   "metadata": {},
   "outputs": [],
   "source": [
    "X_train, X_test, y_train, y_test = train_test_split(X, y, test_size=0.2, random_state=10)"
   ]
  }
 ],
 "metadata": {
  "kernelspec": {
   "display_name": "ml_lab",
   "language": "python",
   "name": "python3"
  },
  "language_info": {
   "codemirror_mode": {
    "name": "ipython",
    "version": 3
   },
   "file_extension": ".py",
   "mimetype": "text/x-python",
   "name": "python",
   "nbconvert_exporter": "python",
   "pygments_lexer": "ipython3",
   "version": "3.11.1"
  },
  "orig_nbformat": 4,
  "vscode": {
   "interpreter": {
    "hash": "2d7e892471c529487db08243664acf6a81b7394e9446693cb64c29aeeda7c180"
   }
  }
 },
 "nbformat": 4,
 "nbformat_minor": 2
}
