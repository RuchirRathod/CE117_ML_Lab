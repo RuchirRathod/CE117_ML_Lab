{
 "cells": [
  {
   "attachments": {},
   "cell_type": "markdown",
   "metadata": {},
   "source": [
    "**Data PreProcessing and Feature Selection**\n",
    "- Done to resolve issues in data such as incompletion, inconsistent and or lacking in some behaviours.\n",
    "- **Noisy Data** : Containing errors or outliers.\n",
    "- **Inconsistent** : Containing discrepancies in codes or names"
   ]
  },
  {
   "attachments": {},
   "cell_type": "markdown",
   "metadata": {},
   "source": [
    "**Few Data Preprocessing Techniques**\n",
    "- Handling missing values\n",
    "- Data Transformation\n",
    "    - Scaling (Min-Max Normalization)\n",
    "    - Mean Normalization\n",
    "    - Standardization(Z score)\n",
    "    - Binarize Data (Make Binary)\n",
    "- Handling Categorical Data\n",
    "    - Label Encoding\n",
    "    - One Hot Encoding"
   ]
  },
  {
   "attachments": {},
   "cell_type": "markdown",
   "metadata": {},
   "source": [
    "**4.1 Steps For Data Transformation**\n",
    "- Import Libraries\n",
    "- Load Data\n",
    "- Seprate Input and Output attributes\n",
    "- Perform scaling\n",
    "- Perform standardization"
   ]
  },
  {
   "cell_type": "code",
   "execution_count": 1,
   "metadata": {},
   "outputs": [],
   "source": [
    "#Step 1 Import Libraries\n",
    "import numpy as np\n",
    "import pandas as pd\n",
    "from sklearn.preprocessing import MinMaxScaler, StandardScaler"
   ]
  },
  {
   "cell_type": "code",
   "execution_count": 2,
   "metadata": {},
   "outputs": [
    {
     "name": "stdout",
     "output_type": "stream",
     "text": [
      "\n",
      "Data :\n",
      "     Country  Age  Salary Purchased\n",
      "0    France   44   72000        No\n",
      "1     Spain   27   48000       Yes\n",
      "2   Germany   30   54000        No\n",
      "3     Spain   38   61000        No\n",
      "4   Germany   40   68000       Yes\n",
      "5    France   35   58000       Yes\n",
      "6     Spain   39   52000        No\n",
      "7    France   48   79000       Yes\n",
      "8   Germany   50   83000        No\n",
      "9    France   37   67000       Yes\n",
      "10    Spain   45   55000        No\n"
     ]
    }
   ],
   "source": [
    "#Step 2 Load Data\n",
    "dataset = pd.read_csv(\"Data_for_Transformation.csv\")\n",
    "print(\"\\nData :\\n\", dataset)"
   ]
  },
  {
   "cell_type": "code",
   "execution_count": 3,
   "metadata": {},
   "outputs": [
    {
     "name": "stdout",
     "output_type": "stream",
     "text": [
      "Inputs: \n",
      " [['France' 44 72000]\n",
      " ['Spain' 27 48000]\n",
      " ['Germany' 30 54000]\n",
      " ['Spain' 38 61000]\n",
      " ['Germany' 40 68000]\n",
      " ['France' 35 58000]\n",
      " ['Spain' 39 52000]\n",
      " ['France' 48 79000]\n",
      " ['Germany' 50 83000]\n",
      " ['France' 37 67000]\n",
      " ['Spain' 45 55000]]\n",
      "\n",
      "Label: \n",
      " ['No' 'Yes' 'No' 'No' 'Yes' 'Yes' 'No' 'Yes' 'No' 'Yes' 'No']\n"
     ]
    }
   ],
   "source": [
    "#Step 3 Seperate Input and Output attributes\n",
    "X_transform = dataset.iloc[:, :-1].values\n",
    "y_transform = dataset.iloc[:, -1].values\n",
    "\n",
    "print(\"Inputs: \\n\", X_transform)\n",
    "print(\"\\nLabel: \\n\", y_transform)"
   ]
  },
  {
   "cell_type": "code",
   "execution_count": 4,
   "metadata": {},
   "outputs": [
    {
     "name": "stdout",
     "output_type": "stream",
     "text": [
      "\n",
      "Data for transformation: \n",
      " [[   44 72000]\n",
      " [   27 48000]\n",
      " [   30 54000]\n",
      " [   38 61000]\n",
      " [   40 68000]\n",
      " [   35 58000]\n",
      " [   39 52000]\n",
      " [   48 79000]\n",
      " [   50 83000]\n",
      " [   37 67000]\n",
      " [   45 55000]]\n"
     ]
    }
   ],
   "source": [
    "#Step 3 Data for transformation\n",
    "X_new_transform = dataset.iloc[:, 1:3].values\n",
    "print(\"\\nData for transformation: \\n\", X_new_transform)"
   ]
  },
  {
   "cell_type": "code",
   "execution_count": 5,
   "metadata": {},
   "outputs": [
    {
     "name": "stdout",
     "output_type": "stream",
     "text": [
      "\n",
      "Scaled input: \n",
      " [[0.73913043 0.68571429]\n",
      " [0.         0.        ]\n",
      " [0.13043478 0.17142857]\n",
      " [0.47826087 0.37142857]\n",
      " [0.56521739 0.57142857]\n",
      " [0.34782609 0.28571429]\n",
      " [0.52173913 0.11428571]\n",
      " [0.91304348 0.88571429]\n",
      " [1.         1.        ]\n",
      " [0.43478261 0.54285714]\n",
      " [0.7826087  0.2       ]]\n"
     ]
    }
   ],
   "source": [
    "#Step 4 Perform scaling for Age and Salary\n",
    "scaler = MinMaxScaler()\n",
    "X_scaled = scaler.fit_transform(X_new_transform)\n",
    "print(\"\\nScaled input: \\n\", X_scaled)\n"
   ]
  },
  {
   "cell_type": "code",
   "execution_count": 6,
   "metadata": {},
   "outputs": [
    {
     "name": "stdout",
     "output_type": "stream",
     "text": [
      "\n",
      "Standardized Input: \n",
      " [[ 0.68188156  0.79548755]\n",
      " [-1.81835082 -1.41513049]\n",
      " [-1.37713334 -0.86247598]\n",
      " [-0.2005534  -0.21771238]\n",
      " [ 0.09359159  0.42705121]\n",
      " [-0.64177088 -0.49403964]\n",
      " [-0.05348091 -1.04669415]\n",
      " [ 1.27017153  1.44025115]\n",
      " [ 1.56431652  1.80868749]\n",
      " [-0.34762589  0.33494213]\n",
      " [ 0.82895405 -0.77036689]]\n"
     ]
    }
   ],
   "source": [
    "#Step 5 Perform Standardization on Age and Salary\n",
    "standard = StandardScaler()\n",
    "X_standardized = standard.fit_transform(X_scaled)\n",
    "print(\"\\nStandardized Input: \\n\", X_standardized)"
   ]
  },
  {
   "attachments": {},
   "cell_type": "markdown",
   "metadata": {},
   "source": [
    "**4.2 Steps for Handling Categorical Data**\n",
    "- Import Libraries\n",
    "- Load Data\n",
    "- Seprate Input and Output attributes\n",
    "- Convert the categorical data into numerical data"
   ]
  },
  {
   "cell_type": "code",
   "execution_count": 7,
   "metadata": {},
   "outputs": [],
   "source": [
    "#Step 1 Import Libraries\n",
    "# import numpy as np\n",
    "# import pandas as pd\n",
    "from sklearn.preprocessing import LabelEncoder, OneHotEncoder"
   ]
  },
  {
   "cell_type": "code",
   "execution_count": 8,
   "metadata": {},
   "outputs": [
    {
     "name": "stdout",
     "output_type": "stream",
     "text": [
      "\n",
      "Data: \n",
      "     Country  Age  Salary Purchased\n",
      "0    France   44   72000        No\n",
      "1     Spain   27   48000       Yes\n",
      "2   Germany   30   54000        No\n",
      "3     Spain   38   61000        No\n",
      "4   Germany   40   68000       Yes\n",
      "5    France   35   58000       Yes\n",
      "6     Spain   39   52000        No\n",
      "7    France   48   79000       Yes\n",
      "8   Germany   50   83000        No\n",
      "9    France   37   67000       Yes\n",
      "10    Spain   45   55000        No\n",
      "\n",
      "Data stats: \n",
      "              Age        Salary\n",
      "count  11.000000     11.000000\n",
      "mean   39.363636  63363.636364\n",
      "std     7.131237  11386.594989\n",
      "min    27.000000  48000.000000\n",
      "25%    36.000000  54500.000000\n",
      "50%    39.000000  61000.000000\n",
      "75%    44.500000  70000.000000\n",
      "max    50.000000  83000.000000\n"
     ]
    }
   ],
   "source": [
    "#Step 2: Load data\n",
    "data_onehot = pd.read_csv(\"Data_for_Categorical_Values.csv\")\n",
    "data_cat = pd.read_csv(\"Data_for_Categorical_Values.csv\")\n",
    "print(\"\\nData: \\n\", data_cat)\n",
    "print(\"\\nData stats: \\n\", data_cat.describe())"
   ]
  },
  {
   "cell_type": "code",
   "execution_count": 9,
   "metadata": {},
   "outputs": [
    {
     "name": "stdout",
     "output_type": "stream",
     "text": [
      "\n",
      "Inputs: \n",
      " [['France' 44 72000]\n",
      " ['Spain' 27 48000]\n",
      " ['Germany' 30 54000]\n",
      " ['Spain' 38 61000]\n",
      " ['Germany' 40 68000]\n",
      " ['France' 35 58000]\n",
      " ['Spain' 39 52000]\n",
      " ['France' 48 79000]\n",
      " ['Germany' 50 83000]\n",
      " ['France' 37 67000]\n",
      " ['Spain' 45 55000]]\n",
      "\n",
      "Label: \n",
      " ['No' 'Yes' 'No' 'No' 'Yes' 'Yes' 'No' 'Yes' 'No' 'Yes' 'No']\n"
     ]
    }
   ],
   "source": [
    "#Step 3 Seprate Input and Output attributes\n",
    "X_cat= data_cat.iloc[:, :-1].values\n",
    "y_cat = data_cat.iloc[:, -1].values\n",
    "\n",
    "print(\"\\nInputs: \\n\", X_cat)\n",
    "print(\"\\nLabel: \\n\", y_cat)"
   ]
  },
  {
   "cell_type": "code",
   "execution_count": 10,
   "metadata": {},
   "outputs": [
    {
     "name": "stdout",
     "output_type": "stream",
     "text": [
      "\n",
      "Inputs: \n",
      " [[0 44 72000]\n",
      " [2 27 48000]\n",
      " [1 30 54000]\n",
      " [2 38 61000]\n",
      " [1 40 68000]\n",
      " [0 35 58000]\n",
      " [2 39 52000]\n",
      " [0 48 79000]\n",
      " [1 50 83000]\n",
      " [0 37 67000]\n",
      " [2 45 55000]]\n"
     ]
    }
   ],
   "source": [
    "#Step 4a Apply Label Encoder to convert country data to numerical values\n",
    "labelencoder = LabelEncoder()\n",
    "X_cat[:, 0] = labelencoder.fit_transform(X_cat[:, 0])\n",
    "print(\"\\nInputs: \\n\", X_cat)"
   ]
  },
  {
   "cell_type": "code",
   "execution_count": 11,
   "metadata": {},
   "outputs": [
    {
     "name": "stdout",
     "output_type": "stream",
     "text": [
      "\n",
      "Dummy: \n",
      "     France  Germany  Spain\n",
      "0        1        0      0\n",
      "1        0        0      1\n",
      "2        0        1      0\n",
      "3        0        0      1\n",
      "4        0        1      0\n",
      "5        1        0      0\n",
      "6        0        0      1\n",
      "7        1        0      0\n",
      "8        0        1      0\n",
      "9        1        0      0\n",
      "10       0        0      1\n",
      "\n",
      "Final Data: \n",
      "     France  Germany  Spain  Age  Salary\n",
      "0        1        0      0   44   72000\n",
      "1        0        0      1   27   48000\n",
      "2        0        1      0   30   54000\n",
      "3        0        0      1   38   61000\n",
      "4        0        1      0   40   68000\n",
      "5        1        0      0   35   58000\n",
      "6        0        0      1   39   52000\n",
      "7        1        0      0   48   79000\n",
      "8        0        1      0   50   83000\n",
      "9        1        0      0   37   67000\n",
      "10       0        0      1   45   55000\n"
     ]
    }
   ],
   "source": [
    "#Step 4b Use dummy variables from pandas lib to one column for each country\n",
    "\n",
    "dummy = pd.get_dummies(data_cat[\"Country\"])\n",
    "print(\"\\nDummy: \\n\", dummy)\n",
    "data_cat = data_cat.drop(['Country', 'Purchased'], axis=1)\n",
    "data_cat = pd.concat([dummy, data_cat], axis=1)\n",
    "print(\"\\nFinal Data: \\n\", data_cat)"
   ]
  },
  {
   "cell_type": "code",
   "execution_count": 12,
   "metadata": {},
   "outputs": [
    {
     "name": "stdout",
     "output_type": "stream",
     "text": [
      "\n",
      "Inputs: \n",
      " [[1. 0. 0.]\n",
      " [0. 0. 1.]\n",
      " [0. 1. 0.]\n",
      " [0. 0. 1.]\n",
      " [0. 1. 0.]\n",
      " [1. 0. 0.]\n",
      " [0. 0. 1.]\n",
      " [1. 0. 0.]\n",
      " [0. 1. 0.]\n",
      " [1. 0. 0.]\n",
      " [0. 0. 1.]]\n"
     ]
    }
   ],
   "source": [
    "#Use One Hot Encoder from Scikit Learn\n",
    "onehotencoder = OneHotEncoder()\n",
    "#Reshape 1D country array to 2D as fit_tranform requires 2D array \n",
    "x = onehotencoder.fit_transform(data_onehot.Country.values.reshape(-1, 1)).toarray()\n",
    "print(\"\\nInputs: \\n\", x)"
   ]
  },
  {
   "cell_type": "code",
   "execution_count": 13,
   "metadata": {},
   "outputs": [
    {
     "name": "stdout",
     "output_type": "stream",
     "text": [
      "\n",
      "Input: \n",
      "     Country  Age  Salary Purchased  Country_0  Country_1  Country_2\n",
      "0    France   44   72000        No        1.0        0.0        0.0\n",
      "1     Spain   27   48000       Yes        0.0        0.0        1.0\n",
      "2   Germany   30   54000        No        0.0        1.0        0.0\n",
      "3     Spain   38   61000        No        0.0        0.0        1.0\n",
      "4   Germany   40   68000       Yes        0.0        1.0        0.0\n",
      "5    France   35   58000       Yes        1.0        0.0        0.0\n",
      "6     Spain   39   52000        No        0.0        0.0        1.0\n",
      "7    France   48   79000       Yes        1.0        0.0        0.0\n",
      "8   Germany   50   83000        No        0.0        1.0        0.0\n",
      "9    France   37   67000       Yes        1.0        0.0        0.0\n",
      "10    Spain   45   55000        No        0.0        0.0        1.0\n",
      "\n",
      "Input: \n",
      "     Age  Salary Purchased  Country_0  Country_1  Country_2\n",
      "0    44   72000        No        1.0        0.0        0.0\n",
      "1    27   48000       Yes        0.0        0.0        1.0\n",
      "2    30   54000        No        0.0        1.0        0.0\n",
      "3    38   61000        No        0.0        0.0        1.0\n",
      "4    40   68000       Yes        0.0        1.0        0.0\n",
      "5    35   58000       Yes        1.0        0.0        0.0\n",
      "6    39   52000        No        0.0        0.0        1.0\n",
      "7    48   79000       Yes        1.0        0.0        0.0\n",
      "8    50   83000        No        0.0        1.0        0.0\n",
      "9    37   67000       Yes        1.0        0.0        0.0\n",
      "10   45   55000        No        0.0        0.0        1.0\n"
     ]
    }
   ],
   "source": [
    "df_OneHot = pd.DataFrame(x, columns=[\"Country_\" + str(int (i)) for i in range(data_onehot.shape[1]-1)])\n",
    "df = pd.concat([data_onehot, df_OneHot], axis=1)\n",
    "print(\"\\nInput: \\n\", df)\n",
    "df = df.drop(['Country'], axis=1)\n",
    "print(\"\\nInput: \\n\", df)"
   ]
  },
  {
   "attachments": {},
   "cell_type": "markdown",
   "metadata": {},
   "source": [
    "**4.3 Steps for Handling Missing Values**\n",
    "- Import Libraries\n",
    "- Load Data\n",
    "- Seprate Input and Output attributes\n",
    "- Find the missing values and handle it in either\n",
    "    - Removing data (column or row)\n",
    "    - Imputation (replacing with mean value)"
   ]
  },
  {
   "cell_type": "code",
   "execution_count": 14,
   "metadata": {},
   "outputs": [],
   "source": [
    "#Step 1 Import Libraries\n",
    "# import numpy as np\n",
    "# import pandas as pd\n",
    "from sklearn.impute import SimpleImputer"
   ]
  },
  {
   "cell_type": "code",
   "execution_count": 15,
   "metadata": {},
   "outputs": [
    {
     "name": "stdout",
     "output_type": "stream",
     "text": [
      "\n",
      "Data: \n",
      "     Country   Age   Salary Purchased\n",
      "0    France  44.0  72000.0        No\n",
      "1     Spain  27.0  48000.0       Yes\n",
      "2   Germany  30.0  54000.0        No\n",
      "3     Spain  38.0  61000.0        No\n",
      "4       NaN   NaN      NaN       NaN\n",
      "5   Germany  40.0      NaN       Yes\n",
      "6    France  35.0  58000.0       Yes\n",
      "7     Spain   NaN  52000.0        No\n",
      "8    France  48.0  79000.0       Yes\n",
      "9   Germany  50.0  83000.0        No\n",
      "10   France  37.0  67000.0       Yes\n",
      "11    Spain  45.0  55000.0        No\n",
      "\n",
      "Data stats: \n",
      "              Age        Salary\n",
      "count  10.000000     10.000000\n",
      "mean   39.400000  62900.000000\n",
      "std     7.515909  11892.574714\n",
      "min    27.000000  48000.000000\n",
      "25%    35.500000  54250.000000\n",
      "50%    39.000000  59500.000000\n",
      "75%    44.750000  70750.000000\n",
      "max    50.000000  83000.000000\n"
     ]
    }
   ],
   "source": [
    "#Step 2: Load data\n",
    "data_missing = pd.read_csv(\"Data_for_Missing_Values.csv\")\n",
    "print(\"\\nData: \\n\", data_missing)\n",
    "print(\"\\nData stats: \\n\", data_missing.describe())"
   ]
  },
  {
   "cell_type": "code",
   "execution_count": 16,
   "metadata": {},
   "outputs": [
    {
     "name": "stdout",
     "output_type": "stream",
     "text": [
      "\n",
      "Inputs: \n",
      " [['France' 44.0 72000.0]\n",
      " ['Spain' 27.0 48000.0]\n",
      " ['Germany' 30.0 54000.0]\n",
      " ['Spain' 38.0 61000.0]\n",
      " [nan nan nan]\n",
      " ['Germany' 40.0 nan]\n",
      " ['France' 35.0 58000.0]\n",
      " ['Spain' nan 52000.0]\n",
      " ['France' 48.0 79000.0]\n",
      " ['Germany' 50.0 83000.0]\n",
      " ['France' 37.0 67000.0]\n",
      " ['Spain' 45.0 55000.0]]\n",
      "\n",
      "Label: \n",
      " ['No' 'Yes' 'No' 'No' nan 'Yes' 'Yes' 'No' 'Yes' 'No' 'Yes' 'No']\n"
     ]
    }
   ],
   "source": [
    "#Step 3 Seprate Input and Output attributes\n",
    "X_missing = data_missing.iloc[:, :-1].values\n",
    "y_missing = data_missing.iloc[:, -1].values\n",
    "\n",
    "print(\"\\nInputs: \\n\", X_missing)\n",
    "print(\"\\nLabel: \\n\", y_missing)"
   ]
  },
  {
   "cell_type": "code",
   "execution_count": 17,
   "metadata": {},
   "outputs": [
    {
     "name": "stdout",
     "output_type": "stream",
     "text": [
      "\n",
      "New Data :\n",
      "     Country   Age   Salary Purchased\n",
      "0    France  44.0  72000.0        No\n",
      "1     Spain  27.0  48000.0       Yes\n",
      "2   Germany  30.0  54000.0        No\n",
      "3     Spain  38.0  61000.0        No\n",
      "5   Germany  40.0      NaN       Yes\n",
      "6    France  35.0  58000.0       Yes\n",
      "7     Spain   NaN  52000.0        No\n",
      "8    France  48.0  79000.0       Yes\n",
      "9   Germany  50.0  83000.0        No\n",
      "10   France  37.0  67000.0       Yes\n",
      "11    Spain  45.0  55000.0        No\n",
      "\n",
      "New Data :\n",
      "     Country   Age   Salary Purchased\n",
      "0    France  44.0  72000.0        No\n",
      "1     Spain  27.0  48000.0       Yes\n",
      "2   Germany  30.0  54000.0        No\n",
      "3     Spain  38.0  61000.0        No\n",
      "6    France  35.0  58000.0       Yes\n",
      "8    France  48.0  79000.0       Yes\n",
      "9   Germany  50.0  83000.0        No\n",
      "10   France  37.0  67000.0       Yes\n",
      "11    Spain  45.0  55000.0        No\n"
     ]
    }
   ],
   "source": [
    "#Step 4: Find the missing values and handle it in either way\n",
    "\n",
    "#4a Removing the row with all the null values\n",
    "data_all_null = data_missing.dropna(axis=0, how='all', inplace=False)\n",
    "print(\"\\nNew Data :\\n\",data_all_null)\n",
    "\n",
    "#4b Removing the row with any one null values\n",
    "data_any_null = data_missing.dropna(axis=0, how='any', inplace=False)\n",
    "print(\"\\nNew Data :\\n\",data_any_null)\n",
    "\n",
    "data_missing.dropna(axis=0, how='all', inplace=True)"
   ]
  },
  {
   "cell_type": "code",
   "execution_count": 18,
   "metadata": {},
   "outputs": [
    {
     "name": "stdout",
     "output_type": "stream",
     "text": [
      "\n",
      "\n",
      "New Input with Mean Value for NaN : \n",
      "\n",
      " [['France' 44.0 72000.0]\n",
      " ['Spain' 27.0 48000.0]\n",
      " ['Germany' 30.0 54000.0]\n",
      " ['Spain' 38.0 61000.0]\n",
      " ['Germany' 40.0 62900.0]\n",
      " ['France' 35.0 58000.0]\n",
      " ['Spain' 39.4 52000.0]\n",
      " ['France' 48.0 79000.0]\n",
      " ['Germany' 50.0 83000.0]\n",
      " ['France' 37.0 67000.0]\n",
      " ['Spain' 45.0 55000.0]]\n"
     ]
    }
   ],
   "source": [
    "# 4b. Imputation (Replacing null values with mean value of that attribute)\n",
    "\n",
    "# All rows, all columns except last\n",
    "X_new_missing = data_missing.iloc[:, :-1].values\n",
    "# Only last column\n",
    "Y_new_missing = data_missing.iloc[:, -1].values\n",
    "\n",
    "data_missing['Age'].fillna(data_missing['Age'].mean())\n",
    "\n",
    "# Using Imputer function to replace NaN values with mean of that parameter value\n",
    "imputer = SimpleImputer(missing_values = np.nan,strategy = \"mean\")\n",
    "\n",
    "# Fitting the data, function learns the stats\n",
    "imputer = imputer.fit(X_new_missing[:, 1:3])\n",
    "\n",
    "# fit_transform() will execute those stats on the input ie. X[:, 1:3]\n",
    "X_new_missing[:, 1:3] = imputer.transform(X_new_missing[:, 1:3])\n",
    "\n",
    "# filling the missing value with mean\n",
    "print(\"\\n\\nNew Input with Mean Value for NaN : \\n\\n\", X_new_missing)"
   ]
  },
  {
   "attachments": {},
   "cell_type": "markdown",
   "metadata": {},
   "source": [
    "**4.4 Correlation**\n",
    "- When a feature has high correlation(dependent) with another feature then we can drop any one of the two features."
   ]
  },
  {
   "cell_type": "code",
   "execution_count": 19,
   "metadata": {},
   "outputs": [],
   "source": [
    "#Step 1 Import Libraries\n",
    "# import numpy as np\n",
    "# import pandas as pd\n",
    "import seaborn as sns"
   ]
  },
  {
   "cell_type": "code",
   "execution_count": 20,
   "metadata": {},
   "outputs": [
    {
     "name": "stdout",
     "output_type": "stream",
     "text": [
      "\n",
      "Data: \n",
      "     X1   X2  X3   X4  Y\n",
      "0    1    1   4   -2  1\n",
      "1    2    4   5   -4  1\n",
      "2    3    9   6    3  0\n",
      "3    4   16   7    4  0\n",
      "4    5   25   8   25  1\n",
      "5    6   36   9   76  0\n",
      "6    7   49  10   34  1\n",
      "7    8   64  11  346  0\n",
      "8    9   81  12   67  0\n",
      "9   10  100  13    3  0\n",
      "10  11  121  14  355  1\n",
      "11  12  144  15   88  1\n",
      "12  13  169  16    2  0\n",
      "13  14  196  17    1  1\n",
      "\n",
      "Data stats: \n",
      "             X1          X2       X3          X4          Y\n",
      "count  14.0000   14.000000  14.0000   14.000000  14.000000\n",
      "mean    7.5000   72.500000  10.5000   71.285714   0.500000\n",
      "std     4.1833   64.509689   4.1833  122.300656   0.518875\n",
      "min     1.0000    1.000000   4.0000   -4.000000   0.000000\n",
      "25%     4.2500   18.250000   7.2500    2.250000   0.000000\n",
      "50%     7.5000   56.500000  10.5000   14.500000   0.500000\n",
      "75%    10.7500  115.750000  13.7500   73.750000   1.000000\n",
      "max    14.0000  196.000000  17.0000  355.000000   1.000000\n"
     ]
    }
   ],
   "source": [
    "#Step 2: Load data\n",
    "data_correlation = pd.read_csv(\"Data_for_Correlation.csv\")\n",
    "print(\"\\nData: \\n\", data_correlation)\n",
    "print(\"\\nData stats: \\n\", data_correlation.describe())"
   ]
  },
  {
   "cell_type": "code",
   "execution_count": 21,
   "metadata": {},
   "outputs": [
    {
     "data": {
      "text/html": [
       "<div>\n",
       "<style scoped>\n",
       "    .dataframe tbody tr th:only-of-type {\n",
       "        vertical-align: middle;\n",
       "    }\n",
       "\n",
       "    .dataframe tbody tr th {\n",
       "        vertical-align: top;\n",
       "    }\n",
       "\n",
       "    .dataframe thead th {\n",
       "        text-align: right;\n",
       "    }\n",
       "</style>\n",
       "<table border=\"1\" class=\"dataframe\">\n",
       "  <thead>\n",
       "    <tr style=\"text-align: right;\">\n",
       "      <th></th>\n",
       "      <th>X1</th>\n",
       "      <th>X2</th>\n",
       "      <th>X3</th>\n",
       "      <th>X4</th>\n",
       "    </tr>\n",
       "  </thead>\n",
       "  <tbody>\n",
       "    <tr>\n",
       "      <th>0</th>\n",
       "      <td>1</td>\n",
       "      <td>1</td>\n",
       "      <td>4</td>\n",
       "      <td>-2</td>\n",
       "    </tr>\n",
       "    <tr>\n",
       "      <th>1</th>\n",
       "      <td>2</td>\n",
       "      <td>4</td>\n",
       "      <td>5</td>\n",
       "      <td>-4</td>\n",
       "    </tr>\n",
       "    <tr>\n",
       "      <th>2</th>\n",
       "      <td>3</td>\n",
       "      <td>9</td>\n",
       "      <td>6</td>\n",
       "      <td>3</td>\n",
       "    </tr>\n",
       "    <tr>\n",
       "      <th>3</th>\n",
       "      <td>4</td>\n",
       "      <td>16</td>\n",
       "      <td>7</td>\n",
       "      <td>4</td>\n",
       "    </tr>\n",
       "    <tr>\n",
       "      <th>4</th>\n",
       "      <td>5</td>\n",
       "      <td>25</td>\n",
       "      <td>8</td>\n",
       "      <td>25</td>\n",
       "    </tr>\n",
       "  </tbody>\n",
       "</table>\n",
       "</div>"
      ],
      "text/plain": [
       "   X1  X2  X3  X4\n",
       "0   1   1   4  -2\n",
       "1   2   4   5  -4\n",
       "2   3   9   6   3\n",
       "3   4  16   7   4\n",
       "4   5  25   8  25"
      ]
     },
     "execution_count": 21,
     "metadata": {},
     "output_type": "execute_result"
    }
   ],
   "source": [
    "data_input_correlation = data_correlation.iloc[:,:-1]\n",
    "data_input_correlation.head()"
   ]
  },
  {
   "cell_type": "code",
   "execution_count": 22,
   "metadata": {},
   "outputs": [
    {
     "name": "stdout",
     "output_type": "stream",
     "text": [
      "<class 'pandas.core.frame.DataFrame'>\n",
      "RangeIndex: 14 entries, 0 to 13\n",
      "Data columns (total 4 columns):\n",
      " #   Column  Non-Null Count  Dtype\n",
      "---  ------  --------------  -----\n",
      " 0   X1      14 non-null     int64\n",
      " 1   X2      14 non-null     int64\n",
      " 2   X3      14 non-null     int64\n",
      " 3   X4      14 non-null     int64\n",
      "dtypes: int64(4)\n",
      "memory usage: 576.0 bytes\n"
     ]
    }
   ],
   "source": [
    "data_input_correlation.info()"
   ]
  },
  {
   "cell_type": "code",
   "execution_count": 23,
   "metadata": {},
   "outputs": [
    {
     "data": {
      "text/html": [
       "<div>\n",
       "<style scoped>\n",
       "    .dataframe tbody tr th:only-of-type {\n",
       "        vertical-align: middle;\n",
       "    }\n",
       "\n",
       "    .dataframe tbody tr th {\n",
       "        vertical-align: top;\n",
       "    }\n",
       "\n",
       "    .dataframe thead th {\n",
       "        text-align: right;\n",
       "    }\n",
       "</style>\n",
       "<table border=\"1\" class=\"dataframe\">\n",
       "  <thead>\n",
       "    <tr style=\"text-align: right;\">\n",
       "      <th></th>\n",
       "      <th>X1</th>\n",
       "      <th>X2</th>\n",
       "      <th>X3</th>\n",
       "      <th>X4</th>\n",
       "    </tr>\n",
       "  </thead>\n",
       "  <tbody>\n",
       "    <tr>\n",
       "      <th>X1</th>\n",
       "      <td>1.000000</td>\n",
       "      <td>0.972714</td>\n",
       "      <td>1.000000</td>\n",
       "      <td>0.263266</td>\n",
       "    </tr>\n",
       "    <tr>\n",
       "      <th>X2</th>\n",
       "      <td>0.972714</td>\n",
       "      <td>1.000000</td>\n",
       "      <td>0.972714</td>\n",
       "      <td>0.163575</td>\n",
       "    </tr>\n",
       "    <tr>\n",
       "      <th>X3</th>\n",
       "      <td>1.000000</td>\n",
       "      <td>0.972714</td>\n",
       "      <td>1.000000</td>\n",
       "      <td>0.263266</td>\n",
       "    </tr>\n",
       "    <tr>\n",
       "      <th>X4</th>\n",
       "      <td>0.263266</td>\n",
       "      <td>0.163575</td>\n",
       "      <td>0.263266</td>\n",
       "      <td>1.000000</td>\n",
       "    </tr>\n",
       "  </tbody>\n",
       "</table>\n",
       "</div>"
      ],
      "text/plain": [
       "          X1        X2        X3        X4\n",
       "X1  1.000000  0.972714  1.000000  0.263266\n",
       "X2  0.972714  1.000000  0.972714  0.163575\n",
       "X3  1.000000  0.972714  1.000000  0.263266\n",
       "X4  0.263266  0.163575  0.263266  1.000000"
      ]
     },
     "execution_count": 23,
     "metadata": {},
     "output_type": "execute_result"
    }
   ],
   "source": [
    "corr = data_input_correlation.corr()\n",
    "corr.head()"
   ]
  },
  {
   "cell_type": "code",
   "execution_count": 24,
   "metadata": {},
   "outputs": [
    {
     "data": {
      "text/plain": [
       "<AxesSubplot: >"
      ]
     },
     "execution_count": 24,
     "metadata": {},
     "output_type": "execute_result"
    },
    {
     "data": {
      "image/png": "[encoded data removed]",
      "text/plain": [
       "<Figure size 640x480 with 2 Axes>"
      ]
     },
     "metadata": {},
     "output_type": "display_data"
    }
   ],
   "source": [
    "sns.heatmap(corr)"
   ]
  },
  {
   "cell_type": "code",
   "execution_count": 25,
   "metadata": {},
   "outputs": [],
   "source": [
    "columns = np.full((corr.shape[0],), True, dtype=bool)\n",
    "for i in range(corr.shape[0]):\n",
    "    for j in range(i+1, corr.shape[0]):\n",
    "        if corr.iloc[i,j] >= 0.9:\n",
    "            if columns[j]:\n",
    "                columns[j] = False"
   ]
  },
  {
   "cell_type": "code",
   "execution_count": 26,
   "metadata": {},
   "outputs": [
    {
     "data": {
      "text/plain": [
       "(2,)"
      ]
     },
     "execution_count": 26,
     "metadata": {},
     "output_type": "execute_result"
    }
   ],
   "source": [
    "selected_columns = data_input_correlation.columns[columns]\n",
    "selected_columns.shape"
   ]
  },
  {
   "cell_type": "code",
   "execution_count": 27,
   "metadata": {},
   "outputs": [
    {
     "name": "stdout",
     "output_type": "stream",
     "text": [
      "    X1   X4\n",
      "0    1   -2\n",
      "1    2   -4\n",
      "2    3    3\n",
      "3    4    4\n",
      "4    5   25\n",
      "5    6   76\n",
      "6    7   34\n",
      "7    8  346\n",
      "8    9   67\n",
      "9   10    3\n",
      "10  11  355\n",
      "11  12   88\n",
      "12  13    2\n",
      "13  14    1\n"
     ]
    }
   ],
   "source": [
    "data_input_correlation = data_input_correlation[selected_columns]\n",
    "print(data_input_correlation)"
   ]
  }
 ],
 "metadata": {
  "kernelspec": {
   "display_name": "ml_lab",
   "language": "python",
   "name": "python3"
  },
  "language_info": {
   "codemirror_mode": {
    "name": "ipython",
    "version": 3
   },
   "file_extension": ".py",
   "mimetype": "text/x-python",
   "name": "python",
   "nbconvert_exporter": "python",
   "pygments_lexer": "ipython3",
   "version": "3.11.1"
  },
  "orig_nbformat": 4,
  "vscode": {
   "interpreter": {
    "hash": "2d7e892471c529487db08243664acf6a81b7394e9446693cb64c29aeeda7c180"
   }
  }
 },
 "nbformat": 4,
 "nbformat_minor": 2
}
